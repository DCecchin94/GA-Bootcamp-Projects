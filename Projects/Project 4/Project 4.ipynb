{
 "cells": [
  {
   "cell_type": "code",
   "execution_count": 1,
   "metadata": {},
   "outputs": [],
   "source": [
    "import pandas as pd\n",
    "import numpy as np\n",
    "from sklearn.ensemble import RandomForestClassifier\n",
    "from sklearn.model_selection import cross_val_score, GridSearchCV, train_test_split\n",
    "import requests\n",
    "import pandas as pd\n",
    "import requests\n",
    "import json\n",
    "import csv\n",
    "import time\n",
    "import datetime\n",
    "from sklearn.feature_extraction.text import CountVectorizer, TfidfVectorizer\n",
    "from sklearn.linear_model import LogisticRegression\n",
    "import seaborn as sns\n",
    "from sklearn.metrics import confusion_matrix\n",
    "from sklearn.tree import DecisionTreeClassifier\n",
    "from sklearn.naive_bayes import MultinomialNB\n",
    "import matplotlib.pyplot as plt\n",
    "from wordcloud import WordCloud, STOPWORDS\n",
    "from nltk.corpus import stopwords\n",
    "from sklearn.ensemble import AdaBoostClassifier\n",
    "from sklearn.naive_bayes import BernoulliNB\n",
    "from sklearn.preprocessing import StandardScaler\n"
   ]
  },
  {
   "cell_type": "code",
   "execution_count": 2,
   "metadata": {},
   "outputs": [],
   "source": [
    "df = pd.read_csv('cheap_train_sample.csv')"
   ]
  },
  {
   "cell_type": "code",
   "execution_count": 35,
   "metadata": {},
   "outputs": [],
   "source": [
    "pd.set_option('max_columns', None)"
   ]
  },
  {
   "cell_type": "code",
   "execution_count": 49,
   "metadata": {},
   "outputs": [
    {
     "data": {
      "text/plain": [
       "(6513, 14)"
      ]
     },
     "execution_count": 49,
     "metadata": {},
     "output_type": "execute_result"
    }
   ],
   "source": [
    "df.shape"
   ]
  },
  {
   "cell_type": "code",
   "execution_count": 36,
   "metadata": {},
   "outputs": [
    {
     "data": {
      "text/html": [
       "<div>\n",
       "<style scoped>\n",
       "    .dataframe tbody tr th:only-of-type {\n",
       "        vertical-align: middle;\n",
       "    }\n",
       "\n",
       "    .dataframe tbody tr th {\n",
       "        vertical-align: top;\n",
       "    }\n",
       "\n",
       "    .dataframe thead th {\n",
       "        text-align: right;\n",
       "    }\n",
       "</style>\n",
       "<table border=\"1\" class=\"dataframe\">\n",
       "  <thead>\n",
       "    <tr style=\"text-align: right;\">\n",
       "      <th></th>\n",
       "      <th>age</th>\n",
       "      <th>workclass</th>\n",
       "      <th>fnlwgt</th>\n",
       "      <th>education</th>\n",
       "      <th>education-num</th>\n",
       "      <th>marital-status</th>\n",
       "      <th>occupation</th>\n",
       "      <th>relationship</th>\n",
       "      <th>sex</th>\n",
       "      <th>capital-gain</th>\n",
       "      <th>capital-loss</th>\n",
       "      <th>hours-per-week</th>\n",
       "      <th>native-country</th>\n",
       "      <th>wage</th>\n",
       "    </tr>\n",
       "  </thead>\n",
       "  <tbody>\n",
       "    <tr>\n",
       "      <th>0</th>\n",
       "      <td>56</td>\n",
       "      <td>Private</td>\n",
       "      <td>346033</td>\n",
       "      <td>9th</td>\n",
       "      <td>5</td>\n",
       "      <td>Divorced</td>\n",
       "      <td>Adm-clerical</td>\n",
       "      <td>Not-in-family</td>\n",
       "      <td>Male</td>\n",
       "      <td>0</td>\n",
       "      <td>0</td>\n",
       "      <td>40</td>\n",
       "      <td>United-States</td>\n",
       "      <td>&lt;=50K</td>\n",
       "    </tr>\n",
       "    <tr>\n",
       "      <th>1</th>\n",
       "      <td>28</td>\n",
       "      <td>Private</td>\n",
       "      <td>96226</td>\n",
       "      <td>HS-grad</td>\n",
       "      <td>9</td>\n",
       "      <td>Married-civ-spouse</td>\n",
       "      <td>Craft-repair</td>\n",
       "      <td>Husband</td>\n",
       "      <td>Male</td>\n",
       "      <td>0</td>\n",
       "      <td>0</td>\n",
       "      <td>45</td>\n",
       "      <td>United-States</td>\n",
       "      <td>&lt;=50K</td>\n",
       "    </tr>\n",
       "    <tr>\n",
       "      <th>2</th>\n",
       "      <td>33</td>\n",
       "      <td>Private</td>\n",
       "      <td>251120</td>\n",
       "      <td>Bachelors</td>\n",
       "      <td>13</td>\n",
       "      <td>Married-civ-spouse</td>\n",
       "      <td>Sales</td>\n",
       "      <td>Husband</td>\n",
       "      <td>Male</td>\n",
       "      <td>7688</td>\n",
       "      <td>0</td>\n",
       "      <td>50</td>\n",
       "      <td>United-States</td>\n",
       "      <td>&gt;50K</td>\n",
       "    </tr>\n",
       "    <tr>\n",
       "      <th>3</th>\n",
       "      <td>26</td>\n",
       "      <td>Private</td>\n",
       "      <td>178140</td>\n",
       "      <td>Bachelors</td>\n",
       "      <td>13</td>\n",
       "      <td>Married-civ-spouse</td>\n",
       "      <td>Other-service</td>\n",
       "      <td>Husband</td>\n",
       "      <td>Male</td>\n",
       "      <td>0</td>\n",
       "      <td>0</td>\n",
       "      <td>45</td>\n",
       "      <td>United-States</td>\n",
       "      <td>&gt;50K</td>\n",
       "    </tr>\n",
       "    <tr>\n",
       "      <th>4</th>\n",
       "      <td>40</td>\n",
       "      <td>Federal-gov</td>\n",
       "      <td>56795</td>\n",
       "      <td>Masters</td>\n",
       "      <td>14</td>\n",
       "      <td>Never-married</td>\n",
       "      <td>Exec-managerial</td>\n",
       "      <td>Not-in-family</td>\n",
       "      <td>Female</td>\n",
       "      <td>14084</td>\n",
       "      <td>0</td>\n",
       "      <td>55</td>\n",
       "      <td>United-States</td>\n",
       "      <td>&gt;50K</td>\n",
       "    </tr>\n",
       "  </tbody>\n",
       "</table>\n",
       "</div>"
      ],
      "text/plain": [
       "   age     workclass  fnlwgt   education  education-num       marital-status  \\\n",
       "0   56       Private  346033         9th              5             Divorced   \n",
       "1   28       Private   96226     HS-grad              9   Married-civ-spouse   \n",
       "2   33       Private  251120   Bachelors             13   Married-civ-spouse   \n",
       "3   26       Private  178140   Bachelors             13   Married-civ-spouse   \n",
       "4   40   Federal-gov   56795     Masters             14        Never-married   \n",
       "\n",
       "         occupation    relationship      sex  capital-gain  capital-loss  \\\n",
       "0      Adm-clerical   Not-in-family     Male             0             0   \n",
       "1      Craft-repair         Husband     Male             0             0   \n",
       "2             Sales         Husband     Male          7688             0   \n",
       "3     Other-service         Husband     Male             0             0   \n",
       "4   Exec-managerial   Not-in-family   Female         14084             0   \n",
       "\n",
       "   hours-per-week  native-country    wage  \n",
       "0              40   United-States   <=50K  \n",
       "1              45   United-States   <=50K  \n",
       "2              50   United-States    >50K  \n",
       "3              45   United-States    >50K  \n",
       "4              55   United-States    >50K  "
      ]
     },
     "execution_count": 36,
     "metadata": {},
     "output_type": "execute_result"
    }
   ],
   "source": [
    "df.head()"
   ]
  },
  {
   "cell_type": "code",
   "execution_count": 31,
   "metadata": {},
   "outputs": [
    {
     "data": {
      "text/plain": [
       " Husband           2612\n",
       " Not-in-family     1665\n",
       " Own-child         1019\n",
       " Unmarried          701\n",
       " Wife               322\n",
       " Other-relative     194\n",
       "Name: relationship, dtype: int64"
      ]
     },
     "execution_count": 31,
     "metadata": {},
     "output_type": "execute_result"
    }
   ],
   "source": [
    "df['relationship'].value_counts()"
   ]
  },
  {
   "cell_type": "code",
   "execution_count": 5,
   "metadata": {},
   "outputs": [
    {
     "data": {
      "text/plain": [
       "age               0\n",
       "workclass         0\n",
       "fnlwgt            0\n",
       "education         0\n",
       "education-num     0\n",
       "marital-status    0\n",
       "occupation        0\n",
       "relationship      0\n",
       "sex               0\n",
       "capital-gain      0\n",
       "capital-loss      0\n",
       "hours-per-week    0\n",
       "native-country    0\n",
       "wage              0\n",
       "dtype: int64"
      ]
     },
     "execution_count": 5,
     "metadata": {},
     "output_type": "execute_result"
    }
   ],
   "source": [
    "df.isnull().sum()"
   ]
  },
  {
   "cell_type": "code",
   "execution_count": 25,
   "metadata": {
    "scrolled": true
   },
   "outputs": [
    {
     "data": {
      "text/plain": [
       " Married-civ-spouse       2978\n",
       " Never-married            2135\n",
       " Divorced                  898\n",
       " Separated                 210\n",
       " Widowed                   204\n",
       " Married-spouse-absent      81\n",
       " Married-AF-spouse           7\n",
       "Name: marital-status, dtype: int64"
      ]
     },
     "execution_count": 25,
     "metadata": {},
     "output_type": "execute_result"
    }
   ],
   "source": [
    "df['marital-status'].value_counts()"
   ]
  },
  {
   "cell_type": "code",
   "execution_count": 26,
   "metadata": {},
   "outputs": [
    {
     "data": {
      "text/plain": [
       " United-States                 5807\n",
       " Mexico                         150\n",
       " ?                              120\n",
       " Philippines                     43\n",
       " El-Salvador                     29\n",
       " Canada                          26\n",
       " Germany                         24\n",
       " Dominican-Republic              20\n",
       " South                           18\n",
       " Jamaica                         18\n",
       " Puerto-Rico                     17\n",
       " India                           17\n",
       " China                           17\n",
       " England                         16\n",
       " Cuba                            16\n",
       " Italy                           15\n",
       " Poland                          14\n",
       " Japan                           12\n",
       " Guatemala                       11\n",
       " Columbia                        11\n",
       " Haiti                           11\n",
       " Taiwan                          10\n",
       " Iran                            10\n",
       " Peru                             9\n",
       " France                           9\n",
       " Vietnam                          8\n",
       " Cambodia                         6\n",
       " Nicaragua                        6\n",
       " Outlying-US(Guam-USVI-etc)       5\n",
       " Portugal                         5\n",
       " Hong                             4\n",
       " Ecuador                          4\n",
       " Scotland                         4\n",
       " Trinadad&Tobago                  3\n",
       " Ireland                          3\n",
       " Hungary                          3\n",
       " Thailand                         3\n",
       " Yugoslavia                       3\n",
       " Greece                           3\n",
       " Laos                             2\n",
       " Honduras                         1\n",
       "Name: native-country, dtype: int64"
      ]
     },
     "execution_count": 26,
     "metadata": {},
     "output_type": "execute_result"
    }
   ],
   "source": [
    "df['native-country'].value_counts()"
   ]
  },
  {
   "cell_type": "code",
   "execution_count": 37,
   "metadata": {
    "scrolled": true
   },
   "outputs": [
    {
     "data": {
      "text/html": [
       "<div>\n",
       "<style scoped>\n",
       "    .dataframe tbody tr th:only-of-type {\n",
       "        vertical-align: middle;\n",
       "    }\n",
       "\n",
       "    .dataframe tbody tr th {\n",
       "        vertical-align: top;\n",
       "    }\n",
       "\n",
       "    .dataframe thead th {\n",
       "        text-align: right;\n",
       "    }\n",
       "</style>\n",
       "<table border=\"1\" class=\"dataframe\">\n",
       "  <thead>\n",
       "    <tr style=\"text-align: right;\">\n",
       "      <th></th>\n",
       "      <th>age</th>\n",
       "      <th>workclass</th>\n",
       "      <th>fnlwgt</th>\n",
       "      <th>education</th>\n",
       "      <th>education-num</th>\n",
       "      <th>marital-status</th>\n",
       "      <th>occupation</th>\n",
       "      <th>relationship</th>\n",
       "      <th>sex</th>\n",
       "      <th>capital-gain</th>\n",
       "      <th>capital-loss</th>\n",
       "      <th>hours-per-week</th>\n",
       "      <th>native-country</th>\n",
       "      <th>wage</th>\n",
       "    </tr>\n",
       "  </thead>\n",
       "  <tbody>\n",
       "    <tr>\n",
       "      <th>83</th>\n",
       "      <td>34</td>\n",
       "      <td>Private</td>\n",
       "      <td>198613</td>\n",
       "      <td>11th</td>\n",
       "      <td>7</td>\n",
       "      <td>Married-civ-spouse</td>\n",
       "      <td>Sales</td>\n",
       "      <td>Husband</td>\n",
       "      <td>Male</td>\n",
       "      <td>0</td>\n",
       "      <td>0</td>\n",
       "      <td>25</td>\n",
       "      <td>?</td>\n",
       "      <td>&lt;=50K</td>\n",
       "    </tr>\n",
       "    <tr>\n",
       "      <th>155</th>\n",
       "      <td>57</td>\n",
       "      <td>Private</td>\n",
       "      <td>140426</td>\n",
       "      <td>1st-4th</td>\n",
       "      <td>2</td>\n",
       "      <td>Married-spouse-absent</td>\n",
       "      <td>Other-service</td>\n",
       "      <td>Not-in-family</td>\n",
       "      <td>Male</td>\n",
       "      <td>0</td>\n",
       "      <td>0</td>\n",
       "      <td>35</td>\n",
       "      <td>?</td>\n",
       "      <td>&lt;=50K</td>\n",
       "    </tr>\n",
       "    <tr>\n",
       "      <th>269</th>\n",
       "      <td>36</td>\n",
       "      <td>Private</td>\n",
       "      <td>358682</td>\n",
       "      <td>Bachelors</td>\n",
       "      <td>13</td>\n",
       "      <td>Never-married</td>\n",
       "      <td>Exec-managerial</td>\n",
       "      <td>Other-relative</td>\n",
       "      <td>Male</td>\n",
       "      <td>0</td>\n",
       "      <td>0</td>\n",
       "      <td>50</td>\n",
       "      <td>?</td>\n",
       "      <td>&lt;=50K</td>\n",
       "    </tr>\n",
       "    <tr>\n",
       "      <th>325</th>\n",
       "      <td>42</td>\n",
       "      <td>Self-emp-not-inc</td>\n",
       "      <td>183765</td>\n",
       "      <td>Assoc-acdm</td>\n",
       "      <td>12</td>\n",
       "      <td>Married-civ-spouse</td>\n",
       "      <td>Sales</td>\n",
       "      <td>Husband</td>\n",
       "      <td>Male</td>\n",
       "      <td>0</td>\n",
       "      <td>0</td>\n",
       "      <td>40</td>\n",
       "      <td>?</td>\n",
       "      <td>&lt;=50K</td>\n",
       "    </tr>\n",
       "    <tr>\n",
       "      <th>498</th>\n",
       "      <td>20</td>\n",
       "      <td>Private</td>\n",
       "      <td>219266</td>\n",
       "      <td>HS-grad</td>\n",
       "      <td>9</td>\n",
       "      <td>Married-civ-spouse</td>\n",
       "      <td>Prof-specialty</td>\n",
       "      <td>Own-child</td>\n",
       "      <td>Female</td>\n",
       "      <td>0</td>\n",
       "      <td>0</td>\n",
       "      <td>36</td>\n",
       "      <td>?</td>\n",
       "      <td>&lt;=50K</td>\n",
       "    </tr>\n",
       "    <tr>\n",
       "      <th>...</th>\n",
       "      <td>...</td>\n",
       "      <td>...</td>\n",
       "      <td>...</td>\n",
       "      <td>...</td>\n",
       "      <td>...</td>\n",
       "      <td>...</td>\n",
       "      <td>...</td>\n",
       "      <td>...</td>\n",
       "      <td>...</td>\n",
       "      <td>...</td>\n",
       "      <td>...</td>\n",
       "      <td>...</td>\n",
       "      <td>...</td>\n",
       "      <td>...</td>\n",
       "    </tr>\n",
       "    <tr>\n",
       "      <th>6361</th>\n",
       "      <td>38</td>\n",
       "      <td>Private</td>\n",
       "      <td>22245</td>\n",
       "      <td>Masters</td>\n",
       "      <td>14</td>\n",
       "      <td>Married-civ-spouse</td>\n",
       "      <td>Transport-moving</td>\n",
       "      <td>Husband</td>\n",
       "      <td>Male</td>\n",
       "      <td>0</td>\n",
       "      <td>0</td>\n",
       "      <td>72</td>\n",
       "      <td>?</td>\n",
       "      <td>&gt;50K</td>\n",
       "    </tr>\n",
       "    <tr>\n",
       "      <th>6368</th>\n",
       "      <td>68</td>\n",
       "      <td>?</td>\n",
       "      <td>286869</td>\n",
       "      <td>7th-8th</td>\n",
       "      <td>4</td>\n",
       "      <td>Widowed</td>\n",
       "      <td>?</td>\n",
       "      <td>Not-in-family</td>\n",
       "      <td>Female</td>\n",
       "      <td>0</td>\n",
       "      <td>1668</td>\n",
       "      <td>40</td>\n",
       "      <td>?</td>\n",
       "      <td>&lt;=50K</td>\n",
       "    </tr>\n",
       "    <tr>\n",
       "      <th>6381</th>\n",
       "      <td>36</td>\n",
       "      <td>Private</td>\n",
       "      <td>247558</td>\n",
       "      <td>Prof-school</td>\n",
       "      <td>15</td>\n",
       "      <td>Married-civ-spouse</td>\n",
       "      <td>Prof-specialty</td>\n",
       "      <td>Husband</td>\n",
       "      <td>Male</td>\n",
       "      <td>5178</td>\n",
       "      <td>0</td>\n",
       "      <td>60</td>\n",
       "      <td>?</td>\n",
       "      <td>&gt;50K</td>\n",
       "    </tr>\n",
       "    <tr>\n",
       "      <th>6438</th>\n",
       "      <td>55</td>\n",
       "      <td>Self-emp-inc</td>\n",
       "      <td>183869</td>\n",
       "      <td>Prof-school</td>\n",
       "      <td>15</td>\n",
       "      <td>Married-civ-spouse</td>\n",
       "      <td>Exec-managerial</td>\n",
       "      <td>Husband</td>\n",
       "      <td>Male</td>\n",
       "      <td>0</td>\n",
       "      <td>0</td>\n",
       "      <td>50</td>\n",
       "      <td>?</td>\n",
       "      <td>&gt;50K</td>\n",
       "    </tr>\n",
       "    <tr>\n",
       "      <th>6448</th>\n",
       "      <td>53</td>\n",
       "      <td>Private</td>\n",
       "      <td>88725</td>\n",
       "      <td>HS-grad</td>\n",
       "      <td>9</td>\n",
       "      <td>Never-married</td>\n",
       "      <td>Craft-repair</td>\n",
       "      <td>Not-in-family</td>\n",
       "      <td>Female</td>\n",
       "      <td>0</td>\n",
       "      <td>0</td>\n",
       "      <td>40</td>\n",
       "      <td>?</td>\n",
       "      <td>&lt;=50K</td>\n",
       "    </tr>\n",
       "  </tbody>\n",
       "</table>\n",
       "<p>120 rows × 14 columns</p>\n",
       "</div>"
      ],
      "text/plain": [
       "      age          workclass  fnlwgt     education  education-num  \\\n",
       "83     34            Private  198613          11th              7   \n",
       "155    57            Private  140426       1st-4th              2   \n",
       "269    36            Private  358682     Bachelors             13   \n",
       "325    42   Self-emp-not-inc  183765    Assoc-acdm             12   \n",
       "498    20            Private  219266       HS-grad              9   \n",
       "...   ...                ...     ...           ...            ...   \n",
       "6361   38            Private   22245       Masters             14   \n",
       "6368   68                  ?  286869       7th-8th              4   \n",
       "6381   36            Private  247558   Prof-school             15   \n",
       "6438   55       Self-emp-inc  183869   Prof-school             15   \n",
       "6448   53            Private   88725       HS-grad              9   \n",
       "\n",
       "              marital-status         occupation     relationship      sex  \\\n",
       "83        Married-civ-spouse              Sales          Husband     Male   \n",
       "155    Married-spouse-absent      Other-service    Not-in-family     Male   \n",
       "269            Never-married    Exec-managerial   Other-relative     Male   \n",
       "325       Married-civ-spouse              Sales          Husband     Male   \n",
       "498       Married-civ-spouse     Prof-specialty        Own-child   Female   \n",
       "...                      ...                ...              ...      ...   \n",
       "6361      Married-civ-spouse   Transport-moving          Husband     Male   \n",
       "6368                 Widowed                  ?    Not-in-family   Female   \n",
       "6381      Married-civ-spouse     Prof-specialty          Husband     Male   \n",
       "6438      Married-civ-spouse    Exec-managerial          Husband     Male   \n",
       "6448           Never-married       Craft-repair    Not-in-family   Female   \n",
       "\n",
       "      capital-gain  capital-loss  hours-per-week native-country    wage  \n",
       "83               0             0              25              ?   <=50K  \n",
       "155              0             0              35              ?   <=50K  \n",
       "269              0             0              50              ?   <=50K  \n",
       "325              0             0              40              ?   <=50K  \n",
       "498              0             0              36              ?   <=50K  \n",
       "...            ...           ...             ...            ...     ...  \n",
       "6361             0             0              72              ?    >50K  \n",
       "6368             0          1668              40              ?   <=50K  \n",
       "6381          5178             0              60              ?    >50K  \n",
       "6438             0             0              50              ?    >50K  \n",
       "6448             0             0              40              ?   <=50K  \n",
       "\n",
       "[120 rows x 14 columns]"
      ]
     },
     "execution_count": 37,
     "metadata": {},
     "output_type": "execute_result"
    }
   ],
   "source": [
    "df[df['native-country']==' ?']"
   ]
  },
  {
   "cell_type": "code",
   "execution_count": 2,
   "metadata": {},
   "outputs": [],
   "source": [
    "df = pd.read_csv(\"cleaned_train_sample.csv\")"
   ]
  },
  {
   "cell_type": "code",
   "execution_count": 3,
   "metadata": {},
   "outputs": [
    {
     "data": {
      "text/html": [
       "<div>\n",
       "<style scoped>\n",
       "    .dataframe tbody tr th:only-of-type {\n",
       "        vertical-align: middle;\n",
       "    }\n",
       "\n",
       "    .dataframe tbody tr th {\n",
       "        vertical-align: top;\n",
       "    }\n",
       "\n",
       "    .dataframe thead th {\n",
       "        text-align: right;\n",
       "    }\n",
       "</style>\n",
       "<table border=\"1\" class=\"dataframe\">\n",
       "  <thead>\n",
       "    <tr style=\"text-align: right;\">\n",
       "      <th></th>\n",
       "      <th>age</th>\n",
       "      <th>workclass</th>\n",
       "      <th>education-num</th>\n",
       "      <th>marital-status</th>\n",
       "      <th>occupation</th>\n",
       "      <th>relationship</th>\n",
       "      <th>sex</th>\n",
       "      <th>capital-gain</th>\n",
       "      <th>capital-loss</th>\n",
       "      <th>hours-per-week</th>\n",
       "      <th>native-country</th>\n",
       "      <th>wage</th>\n",
       "    </tr>\n",
       "  </thead>\n",
       "  <tbody>\n",
       "    <tr>\n",
       "      <th>0</th>\n",
       "      <td>56</td>\n",
       "      <td>3</td>\n",
       "      <td>5</td>\n",
       "      <td>0</td>\n",
       "      <td>0</td>\n",
       "      <td>1</td>\n",
       "      <td>1</td>\n",
       "      <td>0</td>\n",
       "      <td>0</td>\n",
       "      <td>40</td>\n",
       "      <td>37</td>\n",
       "      <td>0</td>\n",
       "    </tr>\n",
       "    <tr>\n",
       "      <th>1</th>\n",
       "      <td>28</td>\n",
       "      <td>3</td>\n",
       "      <td>9</td>\n",
       "      <td>2</td>\n",
       "      <td>2</td>\n",
       "      <td>0</td>\n",
       "      <td>1</td>\n",
       "      <td>0</td>\n",
       "      <td>0</td>\n",
       "      <td>45</td>\n",
       "      <td>37</td>\n",
       "      <td>0</td>\n",
       "    </tr>\n",
       "    <tr>\n",
       "      <th>2</th>\n",
       "      <td>33</td>\n",
       "      <td>3</td>\n",
       "      <td>13</td>\n",
       "      <td>2</td>\n",
       "      <td>11</td>\n",
       "      <td>0</td>\n",
       "      <td>1</td>\n",
       "      <td>7688</td>\n",
       "      <td>0</td>\n",
       "      <td>50</td>\n",
       "      <td>37</td>\n",
       "      <td>1</td>\n",
       "    </tr>\n",
       "    <tr>\n",
       "      <th>3</th>\n",
       "      <td>26</td>\n",
       "      <td>3</td>\n",
       "      <td>13</td>\n",
       "      <td>2</td>\n",
       "      <td>7</td>\n",
       "      <td>0</td>\n",
       "      <td>1</td>\n",
       "      <td>0</td>\n",
       "      <td>0</td>\n",
       "      <td>45</td>\n",
       "      <td>37</td>\n",
       "      <td>1</td>\n",
       "    </tr>\n",
       "    <tr>\n",
       "      <th>4</th>\n",
       "      <td>40</td>\n",
       "      <td>0</td>\n",
       "      <td>14</td>\n",
       "      <td>4</td>\n",
       "      <td>3</td>\n",
       "      <td>1</td>\n",
       "      <td>0</td>\n",
       "      <td>14084</td>\n",
       "      <td>0</td>\n",
       "      <td>55</td>\n",
       "      <td>37</td>\n",
       "      <td>1</td>\n",
       "    </tr>\n",
       "  </tbody>\n",
       "</table>\n",
       "</div>"
      ],
      "text/plain": [
       "   age  workclass  education-num  marital-status  occupation  relationship  \\\n",
       "0   56          3              5               0           0             1   \n",
       "1   28          3              9               2           2             0   \n",
       "2   33          3             13               2          11             0   \n",
       "3   26          3             13               2           7             0   \n",
       "4   40          0             14               4           3             1   \n",
       "\n",
       "   sex  capital-gain  capital-loss  hours-per-week  native-country  wage  \n",
       "0    1             0             0              40              37     0  \n",
       "1    1             0             0              45              37     0  \n",
       "2    1          7688             0              50              37     1  \n",
       "3    1             0             0              45              37     1  \n",
       "4    0         14084             0              55              37     1  "
      ]
     },
     "execution_count": 3,
     "metadata": {},
     "output_type": "execute_result"
    }
   ],
   "source": [
    "df.head()"
   ]
  },
  {
   "cell_type": "code",
   "execution_count": 7,
   "metadata": {},
   "outputs": [
    {
     "data": {
      "text/plain": [
       "<matplotlib.axes._subplots.AxesSubplot at 0x7ff5183c37d0>"
      ]
     },
     "execution_count": 7,
     "metadata": {},
     "output_type": "execute_result"
    },
    {
     "data": {
      "image/png": "[encoded data removed]",
      "text/plain": [
       "<Figure size 432x288 with 2 Axes>"
      ]
     },
     "metadata": {
      "needs_background": "light"
     },
     "output_type": "display_data"
    }
   ],
   "source": [
    "\n",
    "sns.heatmap(df.corr(), annot=True)"
   ]
  },
  {
   "cell_type": "code",
   "execution_count": 4,
   "metadata": {},
   "outputs": [],
   "source": [
    "X = df.drop(columns='wage')\n",
    "y = df['wage']"
   ]
  },
  {
   "cell_type": "code",
   "execution_count": null,
   "metadata": {},
   "outputs": [],
   "source": []
  },
  {
   "cell_type": "code",
   "execution_count": 5,
   "metadata": {},
   "outputs": [],
   "source": [
    "X_train, X_test, y_train, y_test = train_test_split(X, y, test_size = 0.20, stratify = y, random_state=24)"
   ]
  },
  {
   "cell_type": "code",
   "execution_count": 6,
   "metadata": {},
   "outputs": [],
   "source": [
    "ss = StandardScaler()"
   ]
  },
  {
   "cell_type": "code",
   "execution_count": 7,
   "metadata": {},
   "outputs": [],
   "source": [
    "X_train = ss.fit_transform(X_train)\n",
    "X_test = ss.transform(X_test)"
   ]
  },
  {
   "cell_type": "code",
   "execution_count": 68,
   "metadata": {},
   "outputs": [],
   "source": [
    "\n"
   ]
  },
  {
   "cell_type": "code",
   "execution_count": null,
   "metadata": {},
   "outputs": [],
   "source": []
  },
  {
   "cell_type": "markdown",
   "metadata": {},
   "source": [
    "## Logistic Regression WITHOUT boost"
   ]
  },
  {
   "cell_type": "code",
   "execution_count": 54,
   "metadata": {},
   "outputs": [],
   "source": [
    "lr = LogisticRegression()"
   ]
  },
  {
   "cell_type": "code",
   "execution_count": 55,
   "metadata": {},
   "outputs": [
    {
     "data": {
      "text/plain": [
       "LogisticRegression(C=1.0, class_weight=None, dual=False, fit_intercept=True,\n",
       "                   intercept_scaling=1, l1_ratio=None, max_iter=100,\n",
       "                   multi_class='auto', n_jobs=None, penalty='l2',\n",
       "                   random_state=None, solver='lbfgs', tol=0.0001, verbose=0,\n",
       "                   warm_start=False)"
      ]
     },
     "execution_count": 55,
     "metadata": {},
     "output_type": "execute_result"
    }
   ],
   "source": [
    "lr.fit(X_train, y_train)"
   ]
  },
  {
   "cell_type": "code",
   "execution_count": 56,
   "metadata": {},
   "outputs": [],
   "source": [
    "lr_1_params = {\n",
    "    \n",
    "     'penalty': ['l1'],\n",
    "     'C': [1, 1.5, 2, 2.5],\n",
    "     'class_weight': ['balanced'],\n",
    "     'warm_start': [True, False],\n",
    "     'random_state': [24],\n",
    "     'solver': ['liblinear']}\n",
    "        \n",
    "D = GridSearchCV(LogisticRegression(),\n",
    "                 \n",
    "                 lr_1_params,\n",
    "                 cv = 5,\n",
    "                 verbose = 1,\n",
    "                 n_jobs = -1)\n",
    "        \n",
    "   \n",
    "        \n",
    "lr_2_params = {\n",
    "    'penalty': ['l2'],\n",
    "    'C': [1, 1.5, 2, 2.5],\n",
    "    'class_weight': ['balanced'],\n",
    "    'warm_start': [True, False],            \n",
    "    'random_state': [24],\n",
    "    'solver': ['lbfgs', 'liblinear']}\n",
    "        \n",
    "C = GridSearchCV(LogisticRegression(),\n",
    "                    lr_2_params,\n",
    "                    cv = 5,\n",
    "                    verbose = 1,\n",
    "                    n_jobs = -1)"
   ]
  },
  {
   "cell_type": "code",
   "execution_count": 57,
   "metadata": {},
   "outputs": [
    {
     "data": {
      "text/plain": [
       "0.8268714011516315"
      ]
     },
     "execution_count": 57,
     "metadata": {},
     "output_type": "execute_result"
    }
   ],
   "source": [
    "lr.score(X_train, y_train)"
   ]
  },
  {
   "cell_type": "code",
   "execution_count": 58,
   "metadata": {},
   "outputs": [
    {
     "data": {
      "text/plain": [
       "0.8311588641596316"
      ]
     },
     "execution_count": 58,
     "metadata": {},
     "output_type": "execute_result"
    }
   ],
   "source": [
    "lr.score(X_test, y_test)"
   ]
  },
  {
   "cell_type": "code",
   "execution_count": 59,
   "metadata": {},
   "outputs": [
    {
     "name": "stdout",
     "output_type": "stream",
     "text": [
      "Fitting 5 folds for each of 8 candidates, totalling 40 fits\n"
     ]
    },
    {
     "name": "stderr",
     "output_type": "stream",
     "text": [
      "[Parallel(n_jobs=-1)]: Using backend LokyBackend with 12 concurrent workers.\n",
      "[Parallel(n_jobs=-1)]: Done  40 out of  40 | elapsed:    0.1s finished\n"
     ]
    },
    {
     "data": {
      "text/plain": [
       "GridSearchCV(cv=5, error_score=nan,\n",
       "             estimator=LogisticRegression(C=1.0, class_weight=None, dual=False,\n",
       "                                          fit_intercept=True,\n",
       "                                          intercept_scaling=1, l1_ratio=None,\n",
       "                                          max_iter=100, multi_class='auto',\n",
       "                                          n_jobs=None, penalty='l2',\n",
       "                                          random_state=None, solver='lbfgs',\n",
       "                                          tol=0.0001, verbose=0,\n",
       "                                          warm_start=False),\n",
       "             iid='deprecated', n_jobs=-1,\n",
       "             param_grid={'C': [1, 1.5, 2, 2.5], 'class_weight': ['balanced'],\n",
       "                         'penalty': ['l1'], 'random_state': [24],\n",
       "                         'solver': ['liblinear'], 'warm_start': [True, False]},\n",
       "             pre_dispatch='2*n_jobs', refit=True, return_train_score=False,\n",
       "             scoring=None, verbose=1)"
      ]
     },
     "execution_count": 59,
     "metadata": {},
     "output_type": "execute_result"
    }
   ],
   "source": [
    "D.fit(X_train, y_train)"
   ]
  },
  {
   "cell_type": "code",
   "execution_count": 60,
   "metadata": {},
   "outputs": [
    {
     "data": {
      "text/plain": [
       "0.7694817658349328"
      ]
     },
     "execution_count": 60,
     "metadata": {},
     "output_type": "execute_result"
    }
   ],
   "source": [
    "D.score(X_train, y_train)"
   ]
  },
  {
   "cell_type": "code",
   "execution_count": 61,
   "metadata": {},
   "outputs": [
    {
     "data": {
      "text/plain": [
       "0.7766692248656946"
      ]
     },
     "execution_count": 61,
     "metadata": {},
     "output_type": "execute_result"
    }
   ],
   "source": [
    "D.score(X_test, y_test)"
   ]
  },
  {
   "cell_type": "code",
   "execution_count": 62,
   "metadata": {},
   "outputs": [
    {
     "name": "stdout",
     "output_type": "stream",
     "text": [
      "Fitting 5 folds for each of 16 candidates, totalling 80 fits\n"
     ]
    },
    {
     "name": "stderr",
     "output_type": "stream",
     "text": [
      "[Parallel(n_jobs=-1)]: Using backend LokyBackend with 12 concurrent workers.\n",
      "[Parallel(n_jobs=-1)]: Done  28 tasks      | elapsed:    0.1s\n",
      "[Parallel(n_jobs=-1)]: Done  80 out of  80 | elapsed:    0.2s finished\n"
     ]
    },
    {
     "data": {
      "text/plain": [
       "GridSearchCV(cv=5, error_score=nan,\n",
       "             estimator=LogisticRegression(C=1.0, class_weight=None, dual=False,\n",
       "                                          fit_intercept=True,\n",
       "                                          intercept_scaling=1, l1_ratio=None,\n",
       "                                          max_iter=100, multi_class='auto',\n",
       "                                          n_jobs=None, penalty='l2',\n",
       "                                          random_state=None, solver='lbfgs',\n",
       "                                          tol=0.0001, verbose=0,\n",
       "                                          warm_start=False),\n",
       "             iid='deprecated', n_jobs=-1,\n",
       "             param_grid={'C': [1, 1.5, 2, 2.5], 'class_weight': ['balanced'],\n",
       "                         'penalty': ['l2'], 'random_state': [24],\n",
       "                         'solver': ['lbfgs', 'liblinear'],\n",
       "                         'warm_start': [True, False]},\n",
       "             pre_dispatch='2*n_jobs', refit=True, return_train_score=False,\n",
       "             scoring=None, verbose=1)"
      ]
     },
     "execution_count": 62,
     "metadata": {},
     "output_type": "execute_result"
    }
   ],
   "source": [
    "C.fit(X_train, y_train)"
   ]
  },
  {
   "cell_type": "code",
   "execution_count": 63,
   "metadata": {},
   "outputs": [
    {
     "data": {
      "text/plain": [
       "0.7687140115163148"
      ]
     },
     "execution_count": 63,
     "metadata": {},
     "output_type": "execute_result"
    }
   ],
   "source": [
    "C.score(X_train, y_train)"
   ]
  },
  {
   "cell_type": "code",
   "execution_count": 64,
   "metadata": {},
   "outputs": [
    {
     "data": {
      "text/plain": [
       "0.7759017651573292"
      ]
     },
     "execution_count": 64,
     "metadata": {},
     "output_type": "execute_result"
    }
   ],
   "source": [
    "C.score(X_test, y_test)"
   ]
  },
  {
   "cell_type": "markdown",
   "metadata": {},
   "source": [
    "## Logistic Regression WITH boost"
   ]
  },
  {
   "cell_type": "code",
   "execution_count": 330,
   "metadata": {},
   "outputs": [],
   "source": [
    "ada = AdaBoostClassifier(base_estimator=LogisticRegression())\n",
    "\n",
    "ada_param = {\n",
    "    'n_estimators' : [None, 25, 50, 75, 100]\n",
    "}\n",
    "\n",
    "gs = GridSearchCV(ada, param_grid=ada_param, cv = 5, n_jobs= -1)"
   ]
  },
  {
   "cell_type": "code",
   "execution_count": 331,
   "metadata": {},
   "outputs": [
    {
     "data": {
      "text/plain": [
       "GridSearchCV(cv=5, error_score=nan,\n",
       "             estimator=AdaBoostClassifier(algorithm='SAMME.R',\n",
       "                                          base_estimator=LogisticRegression(C=1.0,\n",
       "                                                                            class_weight=None,\n",
       "                                                                            dual=False,\n",
       "                                                                            fit_intercept=True,\n",
       "                                                                            intercept_scaling=1,\n",
       "                                                                            l1_ratio=None,\n",
       "                                                                            max_iter=100,\n",
       "                                                                            multi_class='auto',\n",
       "                                                                            n_jobs=None,\n",
       "                                                                            penalty='l2',\n",
       "                                                                            random_state=None,\n",
       "                                                                            solver='lbfgs',\n",
       "                                                                            tol=0.0001,\n",
       "                                                                            verbose=0,\n",
       "                                                                            warm_start=False),\n",
       "                                          learning_rate=1.0, n_estimators=50,\n",
       "                                          random_state=None),\n",
       "             iid='deprecated', n_jobs=-1,\n",
       "             param_grid={'n_estimators': [None, 25, 50, 75, 100]},\n",
       "             pre_dispatch='2*n_jobs', refit=True, return_train_score=False,\n",
       "             scoring=None, verbose=0)"
      ]
     },
     "execution_count": 331,
     "metadata": {},
     "output_type": "execute_result"
    }
   ],
   "source": [
    "gs.fit(X_train, y_train)"
   ]
  },
  {
   "cell_type": "code",
   "execution_count": 332,
   "metadata": {},
   "outputs": [
    {
     "data": {
      "text/plain": [
       "0.8213051823416506"
      ]
     },
     "execution_count": 332,
     "metadata": {},
     "output_type": "execute_result"
    }
   ],
   "source": [
    "gs.best_score_"
   ]
  },
  {
   "cell_type": "code",
   "execution_count": 333,
   "metadata": {},
   "outputs": [],
   "source": [
    "gbs = gs.best_estimator_"
   ]
  },
  {
   "cell_type": "code",
   "execution_count": 334,
   "metadata": {},
   "outputs": [
    {
     "data": {
      "text/plain": [
       "AdaBoostClassifier(algorithm='SAMME.R',\n",
       "                   base_estimator=LogisticRegression(C=1.0, class_weight=None,\n",
       "                                                     dual=False,\n",
       "                                                     fit_intercept=True,\n",
       "                                                     intercept_scaling=1,\n",
       "                                                     l1_ratio=None,\n",
       "                                                     max_iter=100,\n",
       "                                                     multi_class='auto',\n",
       "                                                     n_jobs=None, penalty='l2',\n",
       "                                                     random_state=None,\n",
       "                                                     solver='lbfgs', tol=0.0001,\n",
       "                                                     verbose=0,\n",
       "                                                     warm_start=False),\n",
       "                   learning_rate=1.0, n_estimators=100, random_state=None)"
      ]
     },
     "execution_count": 334,
     "metadata": {},
     "output_type": "execute_result"
    }
   ],
   "source": [
    "gbs.fit(X_train, y_train)"
   ]
  },
  {
   "cell_type": "code",
   "execution_count": 335,
   "metadata": {},
   "outputs": [
    {
     "data": {
      "text/plain": [
       "0.8207293666026871"
      ]
     },
     "execution_count": 335,
     "metadata": {},
     "output_type": "execute_result"
    }
   ],
   "source": [
    "gbs.score(X_train, y_train)"
   ]
  },
  {
   "cell_type": "code",
   "execution_count": 336,
   "metadata": {},
   "outputs": [
    {
     "data": {
      "text/plain": [
       "0.8234842670759785"
      ]
     },
     "execution_count": 336,
     "metadata": {},
     "output_type": "execute_result"
    }
   ],
   "source": [
    "gbs.score(X_test, y_test)"
   ]
  },
  {
   "cell_type": "code",
   "execution_count": null,
   "metadata": {},
   "outputs": [],
   "source": []
  },
  {
   "cell_type": "markdown",
   "metadata": {},
   "source": [
    "## ada boost Decision Tree"
   ]
  },
  {
   "cell_type": "code",
   "execution_count": 73,
   "metadata": {},
   "outputs": [],
   "source": [
    "dt = DecisionTreeClassifier()"
   ]
  },
  {
   "cell_type": "code",
   "execution_count": 60,
   "metadata": {},
   "outputs": [],
   "source": [
    "ada = AdaBoostClassifier(base_estimator=DecisionTreeClassifier())\n",
    "\n",
    "ada_param = {\n",
    "    'n_estimators' : [None, 10, 25, 50, 100, 200]\n",
    "}\n",
    "\n",
    "gs = GridSearchCV(ada, param_grid=ada_param, cv = 5, n_jobs=-1)"
   ]
  },
  {
   "cell_type": "code",
   "execution_count": 61,
   "metadata": {},
   "outputs": [
    {
     "data": {
      "text/plain": [
       "GridSearchCV(cv=5, error_score=nan,\n",
       "             estimator=AdaBoostClassifier(algorithm='SAMME.R',\n",
       "                                          base_estimator=DecisionTreeClassifier(ccp_alpha=0.0,\n",
       "                                                                                class_weight=None,\n",
       "                                                                                criterion='gini',\n",
       "                                                                                max_depth=None,\n",
       "                                                                                max_features=None,\n",
       "                                                                                max_leaf_nodes=None,\n",
       "                                                                                min_impurity_decrease=0.0,\n",
       "                                                                                min_impurity_split=None,\n",
       "                                                                                min_samples_leaf=1,\n",
       "                                                                                min_samples_split=2,\n",
       "                                                                                min_weight_fraction_leaf=0.0,\n",
       "                                                                                presort='deprecated',\n",
       "                                                                                random_state=None,\n",
       "                                                                                splitter='best'),\n",
       "                                          learning_rate=1.0, n_estimators=50,\n",
       "                                          random_state=None),\n",
       "             iid='deprecated', n_jobs=-1,\n",
       "             param_grid={'n_estimators': [None, 10, 25, 50, 100, 200]},\n",
       "             pre_dispatch='2*n_jobs', refit=True, return_train_score=False,\n",
       "             scoring=None, verbose=0)"
      ]
     },
     "execution_count": 61,
     "metadata": {},
     "output_type": "execute_result"
    }
   ],
   "source": [
    "gs.fit(X_train, y_train)"
   ]
  },
  {
   "cell_type": "code",
   "execution_count": 62,
   "metadata": {},
   "outputs": [
    {
     "data": {
      "text/plain": [
       "0.8220729366602686"
      ]
     },
     "execution_count": 62,
     "metadata": {},
     "output_type": "execute_result"
    }
   ],
   "source": [
    "gs.best_score_"
   ]
  },
  {
   "cell_type": "code",
   "execution_count": 63,
   "metadata": {},
   "outputs": [],
   "source": [
    "gsBest = gs.best_estimator_"
   ]
  },
  {
   "cell_type": "code",
   "execution_count": 64,
   "metadata": {},
   "outputs": [
    {
     "data": {
      "text/plain": [
       "AdaBoostClassifier(algorithm='SAMME.R',\n",
       "                   base_estimator=DecisionTreeClassifier(ccp_alpha=0.0,\n",
       "                                                         class_weight=None,\n",
       "                                                         criterion='gini',\n",
       "                                                         max_depth=None,\n",
       "                                                         max_features=None,\n",
       "                                                         max_leaf_nodes=None,\n",
       "                                                         min_impurity_decrease=0.0,\n",
       "                                                         min_impurity_split=None,\n",
       "                                                         min_samples_leaf=1,\n",
       "                                                         min_samples_split=2,\n",
       "                                                         min_weight_fraction_leaf=0.0,\n",
       "                                                         presort='deprecated',\n",
       "                                                         random_state=None,\n",
       "                                                         splitter='best'),\n",
       "                   learning_rate=1.0, n_estimators=25, random_state=None)"
      ]
     },
     "execution_count": 64,
     "metadata": {},
     "output_type": "execute_result"
    }
   ],
   "source": [
    "gsBest.fit(X_train, y_train)"
   ]
  },
  {
   "cell_type": "code",
   "execution_count": 65,
   "metadata": {},
   "outputs": [
    {
     "data": {
      "text/plain": [
       "0.989827255278311"
      ]
     },
     "execution_count": 65,
     "metadata": {},
     "output_type": "execute_result"
    }
   ],
   "source": [
    "gsBest.score(X_train, y_train)"
   ]
  },
  {
   "cell_type": "code",
   "execution_count": 66,
   "metadata": {},
   "outputs": [
    {
     "data": {
      "text/plain": [
       "0.8234842670759785"
      ]
     },
     "execution_count": 66,
     "metadata": {},
     "output_type": "execute_result"
    }
   ],
   "source": [
    "gsBest.score(X_test, y_test)"
   ]
  },
  {
   "cell_type": "markdown",
   "metadata": {},
   "source": [
    "## DT without boost"
   ]
  },
  {
   "cell_type": "code",
   "execution_count": 239,
   "metadata": {},
   "outputs": [],
   "source": [
    "grid = GridSearchCV(estimator=DecisionTreeClassifier(), param_grid =\n",
    "                   {\n",
    "                       'max_depth' : [None, 3, 5, 7, 10],\n",
    "                       'min_samples_split' : [1, 2,5, 10, 15, 20],\n",
    "                       'min_samples_leaf' : [1, 2, 3, 4, 5, 6, 7],\n",
    "                       'splitter' : ['best', 'random']\n",
    "                   },\n",
    "                   cv = 5, n_jobs=-1)"
   ]
  },
  {
   "cell_type": "code",
   "execution_count": 240,
   "metadata": {},
   "outputs": [
    {
     "data": {
      "text/plain": [
       "GridSearchCV(cv=5, error_score=nan,\n",
       "             estimator=DecisionTreeClassifier(ccp_alpha=0.0, class_weight=None,\n",
       "                                              criterion='gini', max_depth=None,\n",
       "                                              max_features=None,\n",
       "                                              max_leaf_nodes=None,\n",
       "                                              min_impurity_decrease=0.0,\n",
       "                                              min_impurity_split=None,\n",
       "                                              min_samples_leaf=1,\n",
       "                                              min_samples_split=2,\n",
       "                                              min_weight_fraction_leaf=0.0,\n",
       "                                              presort='deprecated',\n",
       "                                              random_state=None,\n",
       "                                              splitter='best'),\n",
       "             iid='deprecated', n_jobs=-1,\n",
       "             param_grid={'max_depth': [None, 3, 5, 7, 10],\n",
       "                         'min_samples_leaf': [1, 2, 3, 4, 5, 6, 7],\n",
       "                         'min_samples_split': [1, 2, 5, 10, 15, 20],\n",
       "                         'splitter': ['best', 'random']},\n",
       "             pre_dispatch='2*n_jobs', refit=True, return_train_score=False,\n",
       "             scoring=None, verbose=0)"
      ]
     },
     "execution_count": 240,
     "metadata": {},
     "output_type": "execute_result"
    }
   ],
   "source": [
    "grid.fit(X_train, y_train)"
   ]
  },
  {
   "cell_type": "code",
   "execution_count": 241,
   "metadata": {},
   "outputs": [
    {
     "data": {
      "text/plain": [
       "0.8433781190019195"
      ]
     },
     "execution_count": 241,
     "metadata": {},
     "output_type": "execute_result"
    }
   ],
   "source": [
    "grid.best_score_"
   ]
  },
  {
   "cell_type": "code",
   "execution_count": 242,
   "metadata": {},
   "outputs": [],
   "source": [
    "gt = grid.best_estimator_"
   ]
  },
  {
   "cell_type": "code",
   "execution_count": 243,
   "metadata": {},
   "outputs": [
    {
     "data": {
      "text/plain": [
       "DecisionTreeClassifier(ccp_alpha=0.0, class_weight=None, criterion='gini',\n",
       "                       max_depth=7, max_features=None, max_leaf_nodes=None,\n",
       "                       min_impurity_decrease=0.0, min_impurity_split=None,\n",
       "                       min_samples_leaf=6, min_samples_split=20,\n",
       "                       min_weight_fraction_leaf=0.0, presort='deprecated',\n",
       "                       random_state=None, splitter='best')"
      ]
     },
     "execution_count": 243,
     "metadata": {},
     "output_type": "execute_result"
    }
   ],
   "source": [
    "gt.fit(X_train, y_train)"
   ]
  },
  {
   "cell_type": "code",
   "execution_count": 244,
   "metadata": {},
   "outputs": [
    {
     "data": {
      "text/plain": [
       "0.854510556621881"
      ]
     },
     "execution_count": 244,
     "metadata": {},
     "output_type": "execute_result"
    }
   ],
   "source": [
    "gt.score(X_train, y_train)"
   ]
  },
  {
   "cell_type": "code",
   "execution_count": 245,
   "metadata": {},
   "outputs": [
    {
     "data": {
      "text/plain": [
       "0.8411358403683806"
      ]
     },
     "execution_count": 245,
     "metadata": {},
     "output_type": "execute_result"
    }
   ],
   "source": [
    "gt.score(X_test, y_test)"
   ]
  },
  {
   "cell_type": "code",
   "execution_count": 300,
   "metadata": {},
   "outputs": [],
   "source": [
    "dt = DecisionTreeClassifier()"
   ]
  },
  {
   "cell_type": "code",
   "execution_count": 301,
   "metadata": {},
   "outputs": [
    {
     "data": {
      "text/plain": [
       "DecisionTreeClassifier(ccp_alpha=0.0, class_weight=None, criterion='gini',\n",
       "                       max_depth=None, max_features=None, max_leaf_nodes=None,\n",
       "                       min_impurity_decrease=0.0, min_impurity_split=None,\n",
       "                       min_samples_leaf=1, min_samples_split=2,\n",
       "                       min_weight_fraction_leaf=0.0, presort='deprecated',\n",
       "                       random_state=None, splitter='best')"
      ]
     },
     "execution_count": 301,
     "metadata": {},
     "output_type": "execute_result"
    }
   ],
   "source": [
    "dt.fit(X_train, y_train)"
   ]
  },
  {
   "cell_type": "code",
   "execution_count": 302,
   "metadata": {},
   "outputs": [
    {
     "data": {
      "text/plain": [
       "0.989827255278311"
      ]
     },
     "execution_count": 302,
     "metadata": {},
     "output_type": "execute_result"
    }
   ],
   "source": [
    "dt.score(X_train, y_train)"
   ]
  },
  {
   "cell_type": "code",
   "execution_count": 303,
   "metadata": {},
   "outputs": [
    {
     "data": {
      "text/plain": [
       "0.8089025326170376"
      ]
     },
     "execution_count": 303,
     "metadata": {},
     "output_type": "execute_result"
    }
   ],
   "source": [
    "dt.score(X_test, y_test)"
   ]
  },
  {
   "cell_type": "code",
   "execution_count": null,
   "metadata": {},
   "outputs": [],
   "source": []
  },
  {
   "cell_type": "code",
   "execution_count": null,
   "metadata": {},
   "outputs": [],
   "source": []
  },
  {
   "cell_type": "markdown",
   "metadata": {},
   "source": [
    "## ada boost NB"
   ]
  },
  {
   "cell_type": "code",
   "execution_count": 22,
   "metadata": {},
   "outputs": [],
   "source": [
    "bNB = BernoulliNB()"
   ]
  },
  {
   "cell_type": "code",
   "execution_count": 42,
   "metadata": {},
   "outputs": [],
   "source": [
    "ada = AdaBoostClassifier(base_estimator=BernoulliNB())\n",
    "\n",
    "ada_param = {\n",
    "    'n_estimators' : [10, 25, 50, 75, 100]\n",
    "}\n",
    "\n",
    "gsvB = GridSearchCV(ada, param_grid=ada_param, cv = 5)"
   ]
  },
  {
   "cell_type": "code",
   "execution_count": 44,
   "metadata": {},
   "outputs": [
    {
     "data": {
      "text/plain": [
       "GridSearchCV(cv=5, error_score=nan,\n",
       "             estimator=AdaBoostClassifier(algorithm='SAMME.R',\n",
       "                                          base_estimator=BernoulliNB(alpha=1.0,\n",
       "                                                                     binarize=0.0,\n",
       "                                                                     class_prior=None,\n",
       "                                                                     fit_prior=True),\n",
       "                                          learning_rate=1.0, n_estimators=50,\n",
       "                                          random_state=None),\n",
       "             iid='deprecated', n_jobs=None,\n",
       "             param_grid={'n_estimators': [10, 25, 50, 75, 100]},\n",
       "             pre_dispatch='2*n_jobs', refit=True, return_train_score=False,\n",
       "             scoring=None, verbose=0)"
      ]
     },
     "execution_count": 44,
     "metadata": {},
     "output_type": "execute_result"
    }
   ],
   "source": [
    "gsvB.fit(X_train, y_train)"
   ]
  },
  {
   "cell_type": "code",
   "execution_count": null,
   "metadata": {},
   "outputs": [],
   "source": []
  },
  {
   "cell_type": "code",
   "execution_count": 46,
   "metadata": {},
   "outputs": [],
   "source": [
    "gsvBest = gsvB.best_estimator_"
   ]
  },
  {
   "cell_type": "code",
   "execution_count": 47,
   "metadata": {},
   "outputs": [
    {
     "data": {
      "text/plain": [
       "AdaBoostClassifier(algorithm='SAMME.R',\n",
       "                   base_estimator=BernoulliNB(alpha=1.0, binarize=0.0,\n",
       "                                              class_prior=None,\n",
       "                                              fit_prior=True),\n",
       "                   learning_rate=1.0, n_estimators=25, random_state=None)"
      ]
     },
     "execution_count": 47,
     "metadata": {},
     "output_type": "execute_result"
    }
   ],
   "source": [
    "gsvBest.fit(X_train, y_train)"
   ]
  },
  {
   "cell_type": "code",
   "execution_count": 48,
   "metadata": {},
   "outputs": [
    {
     "data": {
      "text/plain": [
       "0.8138195777351248"
      ]
     },
     "execution_count": 48,
     "metadata": {},
     "output_type": "execute_result"
    }
   ],
   "source": [
    "gsvBest.score(X_train, y_train)"
   ]
  },
  {
   "cell_type": "code",
   "execution_count": 49,
   "metadata": {},
   "outputs": [
    {
     "data": {
      "text/plain": [
       "0.8257866462010744"
      ]
     },
     "execution_count": 49,
     "metadata": {},
     "output_type": "execute_result"
    }
   ],
   "source": [
    "gsvBest.score(X_test, y_test)"
   ]
  },
  {
   "cell_type": "markdown",
   "metadata": {},
   "source": [
    "## NB without boost"
   ]
  },
  {
   "cell_type": "code",
   "execution_count": null,
   "metadata": {},
   "outputs": [],
   "source": []
  },
  {
   "cell_type": "code",
   "execution_count": null,
   "metadata": {},
   "outputs": [],
   "source": []
  },
  {
   "cell_type": "code",
   "execution_count": null,
   "metadata": {},
   "outputs": [],
   "source": []
  },
  {
   "cell_type": "markdown",
   "metadata": {},
   "source": [
    "## Random Forest"
   ]
  },
  {
   "cell_type": "code",
   "execution_count": 47,
   "metadata": {},
   "outputs": [],
   "source": [
    "rf = RandomForestClassifier()"
   ]
  },
  {
   "cell_type": "markdown",
   "metadata": {},
   "source": [
    "## Random Forest WITH boost"
   ]
  },
  {
   "cell_type": "code",
   "execution_count": 203,
   "metadata": {},
   "outputs": [],
   "source": [
    "ada = AdaBoostClassifier(base_estimator=BernoulliNB())\n",
    "\n",
    "ada_param = {\n",
    "    'n_estimators' : [None, 25, 50, 75, 100],\n",
    "    'alpha' : [0, 0.1, 0.3, 0.8, 1]\n",
    "}\n",
    "\n",
    "\n",
    "\n",
    "\n",
    "gsRF = GridSearchCV(ada, param_grid=ada_param, cv = 5, n_jobs=-1)\n",
    "\n"
   ]
  },
  {
   "cell_type": "code",
   "execution_count": 205,
   "metadata": {},
   "outputs": [],
   "source": [
    "gsRF.fit(X_train, y_train)"
   ]
  },
  {
   "cell_type": "code",
   "execution_count": null,
   "metadata": {},
   "outputs": [],
   "source": []
  },
  {
   "cell_type": "code",
   "execution_count": null,
   "metadata": {},
   "outputs": [],
   "source": []
  },
  {
   "cell_type": "code",
   "execution_count": 206,
   "metadata": {},
   "outputs": [],
   "source": [
    "nb = BernoulliNB()"
   ]
  },
  {
   "cell_type": "code",
   "execution_count": 228,
   "metadata": {},
   "outputs": [],
   "source": [
    "nb_params = {\n",
    "    'alpha' : [1.5, 2.0, 2.5, 3.0, 3.5, 4.0, 4.5, 5.0]\n",
    "    \n",
    "}\n",
    "\n",
    "nb1 = GridSearchCV(BernoulliNB(),\n",
    "                nb_params,\n",
    "                cv = 5,\n",
    "                n_jobs = -1)"
   ]
  },
  {
   "cell_type": "code",
   "execution_count": 229,
   "metadata": {},
   "outputs": [
    {
     "data": {
      "text/plain": [
       "GridSearchCV(cv=5, error_score=nan,\n",
       "             estimator=BernoulliNB(alpha=1.0, binarize=0.0, class_prior=None,\n",
       "                                   fit_prior=True),\n",
       "             iid='deprecated', n_jobs=-1,\n",
       "             param_grid={'alpha': [1.5, 2.0, 2.5, 3.0, 3.5, 4.0, 4.5, 5.0]},\n",
       "             pre_dispatch='2*n_jobs', refit=True, return_train_score=False,\n",
       "             scoring=None, verbose=0)"
      ]
     },
     "execution_count": 229,
     "metadata": {},
     "output_type": "execute_result"
    }
   ],
   "source": [
    "nb1.fit(X_train, y_train)"
   ]
  },
  {
   "cell_type": "code",
   "execution_count": 230,
   "metadata": {},
   "outputs": [
    {
     "data": {
      "text/plain": [
       "0.7967370441458733"
      ]
     },
     "execution_count": 230,
     "metadata": {},
     "output_type": "execute_result"
    }
   ],
   "source": [
    "nb1.score(X_train, y_train)"
   ]
  },
  {
   "cell_type": "code",
   "execution_count": 231,
   "metadata": {},
   "outputs": [
    {
     "data": {
      "text/plain": [
       "0.8019953952417498"
      ]
     },
     "execution_count": 231,
     "metadata": {},
     "output_type": "execute_result"
    }
   ],
   "source": [
    "nb1.score(X_test, y_test)"
   ]
  },
  {
   "cell_type": "markdown",
   "metadata": {},
   "source": [
    "## Random Forest WITHOUT boost"
   ]
  },
  {
   "cell_type": "code",
   "execution_count": 198,
   "metadata": {},
   "outputs": [],
   "source": [
    "rf_params = {\n",
    "    'n_estimators' : range(5, 100),\n",
    "    'criterion' : ['gini'],\n",
    "    'max_depth' : [None, 5, 15, 25],\n",
    "}\n",
    "\n",
    "V = GridSearchCV(RandomForestClassifier(),\n",
    "                rf_params,\n",
    "                cv = 5,\n",
    "                n_jobs = -1)"
   ]
  },
  {
   "cell_type": "code",
   "execution_count": null,
   "metadata": {},
   "outputs": [],
   "source": []
  },
  {
   "cell_type": "code",
   "execution_count": 199,
   "metadata": {},
   "outputs": [
    {
     "data": {
      "text/plain": [
       "GridSearchCV(cv=5, error_score=nan,\n",
       "             estimator=RandomForestClassifier(bootstrap=True, ccp_alpha=0.0,\n",
       "                                              class_weight=None,\n",
       "                                              criterion='gini', max_depth=None,\n",
       "                                              max_features='auto',\n",
       "                                              max_leaf_nodes=None,\n",
       "                                              max_samples=None,\n",
       "                                              min_impurity_decrease=0.0,\n",
       "                                              min_impurity_split=None,\n",
       "                                              min_samples_leaf=1,\n",
       "                                              min_samples_split=2,\n",
       "                                              min_weight_fraction_leaf=0.0,\n",
       "                                              n_estimators=100, n_jobs=None,\n",
       "                                              oob_score=False,\n",
       "                                              random_state=None, verbose=0,\n",
       "                                              warm_start=False),\n",
       "             iid='deprecated', n_jobs=-1,\n",
       "             param_grid={'criterion': ['gini'], 'max_depth': [None, 5, 15, 25],\n",
       "                         'n_estimators': range(5, 100)},\n",
       "             pre_dispatch='2*n_jobs', refit=True, return_train_score=False,\n",
       "             scoring=None, verbose=0)"
      ]
     },
     "execution_count": 199,
     "metadata": {},
     "output_type": "execute_result"
    }
   ],
   "source": [
    "V.fit(X_train, y_train)"
   ]
  },
  {
   "cell_type": "code",
   "execution_count": 200,
   "metadata": {},
   "outputs": [
    {
     "data": {
      "text/plain": [
       "0.9529750479846449"
      ]
     },
     "execution_count": 200,
     "metadata": {},
     "output_type": "execute_result"
    }
   ],
   "source": [
    "V.score(X_train, y_train)"
   ]
  },
  {
   "cell_type": "code",
   "execution_count": 201,
   "metadata": {},
   "outputs": [
    {
     "data": {
      "text/plain": [
       "0.8572524942440521"
      ]
     },
     "execution_count": 201,
     "metadata": {},
     "output_type": "execute_result"
    }
   ],
   "source": [
    "V.score(X_test, y_test)"
   ]
  },
  {
   "cell_type": "code",
   "execution_count": 192,
   "metadata": {
    "scrolled": true
   },
   "outputs": [
    {
     "data": {
      "text/plain": [
       "0.8445297504798465"
      ]
     },
     "execution_count": 192,
     "metadata": {},
     "output_type": "execute_result"
    }
   ],
   "source": [
    "V.best_score_"
   ]
  },
  {
   "cell_type": "code",
   "execution_count": 217,
   "metadata": {},
   "outputs": [],
   "source": [
    "vBest = V.best_estimator_"
   ]
  },
  {
   "cell_type": "code",
   "execution_count": 218,
   "metadata": {},
   "outputs": [
    {
     "data": {
      "text/plain": [
       "RandomForestClassifier(bootstrap=True, ccp_alpha=0.0, class_weight=None,\n",
       "                       criterion='gini', max_depth=15, max_features='auto',\n",
       "                       max_leaf_nodes=None, max_samples=None,\n",
       "                       min_impurity_decrease=0.0, min_impurity_split=None,\n",
       "                       min_samples_leaf=1, min_samples_split=2,\n",
       "                       min_weight_fraction_leaf=0.0, n_estimators=76,\n",
       "                       n_jobs=None, oob_score=False, random_state=None,\n",
       "                       verbose=0, warm_start=False)"
      ]
     },
     "execution_count": 218,
     "metadata": {},
     "output_type": "execute_result"
    }
   ],
   "source": [
    "vBest.fit(X_train, y_train)"
   ]
  },
  {
   "cell_type": "code",
   "execution_count": 219,
   "metadata": {},
   "outputs": [
    {
     "data": {
      "text/plain": [
       "0.9493282149712092"
      ]
     },
     "execution_count": 219,
     "metadata": {},
     "output_type": "execute_result"
    }
   ],
   "source": [
    "vBest.score(X_train, y_train)"
   ]
  },
  {
   "cell_type": "code",
   "execution_count": 220,
   "metadata": {},
   "outputs": [
    {
     "data": {
      "text/plain": [
       "0.8526477359938603"
      ]
     },
     "execution_count": 220,
     "metadata": {},
     "output_type": "execute_result"
    }
   ],
   "source": [
    "vBest.score(X_test, y_test)"
   ]
  },
  {
   "cell_type": "markdown",
   "metadata": {},
   "source": [
    "## KNN"
   ]
  },
  {
   "cell_type": "code",
   "execution_count": 54,
   "metadata": {},
   "outputs": [],
   "source": [
    "from sklearn.neighbors import KNeighborsClassifier"
   ]
  },
  {
   "cell_type": "code",
   "execution_count": 56,
   "metadata": {},
   "outputs": [],
   "source": [
    "knn = KNeighborsClassifier()"
   ]
  },
  {
   "cell_type": "code",
   "execution_count": 143,
   "metadata": {},
   "outputs": [],
   "source": [
    "knn_params = {\n",
    "    'n_neighbors': range(150, 175, 200),\n",
    "    'p': [1,2],\n",
    "    'weights': ['uniform', 'distance']\n",
    "}"
   ]
  },
  {
   "cell_type": "code",
   "execution_count": 144,
   "metadata": {},
   "outputs": [],
   "source": [
    "knnGrid = GridSearchCV(KNeighborsClassifier(), \n",
    "                              knn_params, \n",
    "                              cv = 5, \n",
    "                              verbose=1)"
   ]
  },
  {
   "cell_type": "code",
   "execution_count": 145,
   "metadata": {},
   "outputs": [
    {
     "name": "stdout",
     "output_type": "stream",
     "text": [
      "Fitting 5 folds for each of 4 candidates, totalling 20 fits\n"
     ]
    },
    {
     "name": "stderr",
     "output_type": "stream",
     "text": [
      "[Parallel(n_jobs=1)]: Using backend SequentialBackend with 1 concurrent workers.\n",
      "[Parallel(n_jobs=1)]: Done  20 out of  20 | elapsed:    2.7s finished\n"
     ]
    },
    {
     "data": {
      "text/plain": [
       "GridSearchCV(cv=5, error_score=nan,\n",
       "             estimator=KNeighborsClassifier(algorithm='auto', leaf_size=30,\n",
       "                                            metric='minkowski',\n",
       "                                            metric_params=None, n_jobs=None,\n",
       "                                            n_neighbors=5, p=2,\n",
       "                                            weights='uniform'),\n",
       "             iid='deprecated', n_jobs=None,\n",
       "             param_grid={'n_neighbors': range(150, 175, 200), 'p': [1, 2],\n",
       "                         'weights': ['uniform', 'distance']},\n",
       "             pre_dispatch='2*n_jobs', refit=True, return_train_score=False,\n",
       "             scoring=None, verbose=1)"
      ]
     },
     "execution_count": 145,
     "metadata": {},
     "output_type": "execute_result"
    }
   ],
   "source": [
    "knnGrid.fit(X_train, y_train)"
   ]
  },
  {
   "cell_type": "code",
   "execution_count": 146,
   "metadata": {},
   "outputs": [
    {
     "data": {
      "text/plain": [
       "0.827447216890595"
      ]
     },
     "execution_count": 146,
     "metadata": {},
     "output_type": "execute_result"
    }
   ],
   "source": [
    "knnGrid.score(X_train, y_train)"
   ]
  },
  {
   "cell_type": "code",
   "execution_count": 147,
   "metadata": {},
   "outputs": [
    {
     "data": {
      "text/plain": [
       "0.8396009209516501"
      ]
     },
     "execution_count": 147,
     "metadata": {},
     "output_type": "execute_result"
    }
   ],
   "source": [
    "knnGrid.score(X_test, y_test)"
   ]
  },
  {
   "cell_type": "code",
   "execution_count": 297,
   "metadata": {},
   "outputs": [
    {
     "data": {
      "text/plain": [
       "KNeighborsClassifier(algorithm='auto', leaf_size=30, metric='minkowski',\n",
       "                     metric_params=None, n_jobs=None, n_neighbors=5, p=2,\n",
       "                     weights='uniform')"
      ]
     },
     "execution_count": 297,
     "metadata": {},
     "output_type": "execute_result"
    }
   ],
   "source": [
    "knn.fit(X_train, y_train)"
   ]
  },
  {
   "cell_type": "code",
   "execution_count": 298,
   "metadata": {},
   "outputs": [
    {
     "data": {
      "text/plain": [
       "0.8763915547024952"
      ]
     },
     "execution_count": 298,
     "metadata": {},
     "output_type": "execute_result"
    }
   ],
   "source": [
    "knn.score(X_train, y_train)"
   ]
  },
  {
   "cell_type": "code",
   "execution_count": 299,
   "metadata": {},
   "outputs": [
    {
     "data": {
      "text/plain": [
       "0.8219493476592479"
      ]
     },
     "execution_count": 299,
     "metadata": {},
     "output_type": "execute_result"
    }
   ],
   "source": [
    "knn.score(X_test, y_test)"
   ]
  },
  {
   "cell_type": "markdown",
   "metadata": {},
   "source": [
    "## Bagging"
   ]
  },
  {
   "cell_type": "code",
   "execution_count": 246,
   "metadata": {},
   "outputs": [],
   "source": [
    "from sklearn.ensemble import BaggingClassifier"
   ]
  },
  {
   "cell_type": "code",
   "execution_count": 247,
   "metadata": {},
   "outputs": [],
   "source": [
    "bag = BaggingClassifier()"
   ]
  },
  {
   "cell_type": "code",
   "execution_count": 248,
   "metadata": {},
   "outputs": [
    {
     "data": {
      "text/plain": [
       "BaggingClassifier(base_estimator=None, bootstrap=True, bootstrap_features=False,\n",
       "                  max_features=1.0, max_samples=1.0, n_estimators=10,\n",
       "                  n_jobs=None, oob_score=False, random_state=None, verbose=0,\n",
       "                  warm_start=False)"
      ]
     },
     "execution_count": 248,
     "metadata": {},
     "output_type": "execute_result"
    }
   ],
   "source": [
    "bag.fit(X_train, y_train)"
   ]
  },
  {
   "cell_type": "code",
   "execution_count": 249,
   "metadata": {},
   "outputs": [
    {
     "data": {
      "text/plain": [
       "0.9794625719769674"
      ]
     },
     "execution_count": 249,
     "metadata": {},
     "output_type": "execute_result"
    }
   ],
   "source": [
    "bag.score(X_train, y_train)"
   ]
  },
  {
   "cell_type": "code",
   "execution_count": 250,
   "metadata": {},
   "outputs": [
    {
     "data": {
      "text/plain": [
       "0.8326937835763623"
      ]
     },
     "execution_count": 250,
     "metadata": {},
     "output_type": "execute_result"
    }
   ],
   "source": [
    "bag.score(X_test, y_test)"
   ]
  },
  {
   "cell_type": "code",
   "execution_count": 279,
   "metadata": {},
   "outputs": [],
   "source": [
    "bag_params = {\n",
    "    'n_estimators' : range(1, 50),\n",
    "    'bootstrap_features' : [True],\n",
    "    'random_state' : [24],\n",
    "    'max_samples' : [1.0, 2.0, 3.0],\n",
    "    'max_features' : [1,2,3,4,5,6,7,8,9,10]\n",
    "}\n",
    "\n",
    "\n",
    "bagGrid = GridSearchCV(BaggingClassifier(), \n",
    "                              bag_params, \n",
    "                              cv = 5, \n",
    "                              n_jobs=-1)"
   ]
  },
  {
   "cell_type": "code",
   "execution_count": 280,
   "metadata": {},
   "outputs": [
    {
     "data": {
      "text/plain": [
       "GridSearchCV(cv=5, error_score=nan,\n",
       "             estimator=BaggingClassifier(base_estimator=None, bootstrap=True,\n",
       "                                         bootstrap_features=False,\n",
       "                                         max_features=1.0, max_samples=1.0,\n",
       "                                         n_estimators=10, n_jobs=None,\n",
       "                                         oob_score=False, random_state=None,\n",
       "                                         verbose=0, warm_start=False),\n",
       "             iid='deprecated', n_jobs=-1,\n",
       "             param_grid={'bootstrap_features': [True],\n",
       "                         'max_features': [1, 2, 3, 4, 5, 6, 7, 8, 9, 10],\n",
       "                         'max_samples': [1.0, 2.0, 3.0],\n",
       "                         'n_estimators': range(1, 50), 'random_state': [24]},\n",
       "             pre_dispatch='2*n_jobs', refit=True, return_train_score=False,\n",
       "             scoring=None, verbose=0)"
      ]
     },
     "execution_count": 280,
     "metadata": {},
     "output_type": "execute_result"
    }
   ],
   "source": [
    "bagGrid.fit(X_train, y_train)"
   ]
  },
  {
   "cell_type": "code",
   "execution_count": 281,
   "metadata": {},
   "outputs": [
    {
     "data": {
      "text/plain": [
       "0.9512476007677543"
      ]
     },
     "execution_count": 281,
     "metadata": {},
     "output_type": "execute_result"
    }
   ],
   "source": [
    "bagGrid.score(X_train, y_train)"
   ]
  },
  {
   "cell_type": "code",
   "execution_count": 282,
   "metadata": {},
   "outputs": [
    {
     "data": {
      "text/plain": [
       "0.8672294704528012"
      ]
     },
     "execution_count": 282,
     "metadata": {},
     "output_type": "execute_result"
    }
   ],
   "source": [
    "bagGrid.score(X_test, y_test)"
   ]
  },
  {
   "cell_type": "code",
   "execution_count": 283,
   "metadata": {},
   "outputs": [],
   "source": [
    "from sklearn.naive_bayes import GaussianNB"
   ]
  },
  {
   "cell_type": "code",
   "execution_count": 284,
   "metadata": {},
   "outputs": [],
   "source": [
    "gnb = GaussianNB()"
   ]
  },
  {
   "cell_type": "code",
   "execution_count": 285,
   "metadata": {},
   "outputs": [
    {
     "data": {
      "text/plain": [
       "GaussianNB(priors=None, var_smoothing=1e-09)"
      ]
     },
     "execution_count": 285,
     "metadata": {},
     "output_type": "execute_result"
    }
   ],
   "source": [
    "gnb.fit(X_train, y_train)"
   ]
  },
  {
   "cell_type": "code",
   "execution_count": 286,
   "metadata": {},
   "outputs": [
    {
     "data": {
      "text/plain": [
       "0.8032629558541267"
      ]
     },
     "execution_count": 286,
     "metadata": {},
     "output_type": "execute_result"
    }
   ],
   "source": [
    "gnb.score(X_train, y_train)"
   ]
  },
  {
   "cell_type": "code",
   "execution_count": 287,
   "metadata": {},
   "outputs": [
    {
     "data": {
      "text/plain": [
       "0.7927858787413661"
      ]
     },
     "execution_count": 287,
     "metadata": {},
     "output_type": "execute_result"
    }
   ],
   "source": [
    "gnb.score(X_test, y_test)"
   ]
  },
  {
   "cell_type": "markdown",
   "metadata": {},
   "source": [
    "## Extra Trees"
   ]
  },
  {
   "cell_type": "code",
   "execution_count": 304,
   "metadata": {},
   "outputs": [],
   "source": [
    "from sklearn.ensemble import ExtraTreesClassifier\n",
    "from sklearn.datasets import make_classification"
   ]
  },
  {
   "cell_type": "code",
   "execution_count": 305,
   "metadata": {},
   "outputs": [],
   "source": [
    "et = ExtraTreesClassifier()"
   ]
  },
  {
   "cell_type": "code",
   "execution_count": 306,
   "metadata": {},
   "outputs": [
    {
     "data": {
      "text/plain": [
       "ExtraTreesClassifier(bootstrap=False, ccp_alpha=0.0, class_weight=None,\n",
       "                     criterion='gini', max_depth=None, max_features='auto',\n",
       "                     max_leaf_nodes=None, max_samples=None,\n",
       "                     min_impurity_decrease=0.0, min_impurity_split=None,\n",
       "                     min_samples_leaf=1, min_samples_split=2,\n",
       "                     min_weight_fraction_leaf=0.0, n_estimators=100,\n",
       "                     n_jobs=None, oob_score=False, random_state=None, verbose=0,\n",
       "                     warm_start=False)"
      ]
     },
     "execution_count": 306,
     "metadata": {},
     "output_type": "execute_result"
    }
   ],
   "source": [
    "et.fit(X_train, y_train)"
   ]
  },
  {
   "cell_type": "code",
   "execution_count": 307,
   "metadata": {},
   "outputs": [
    {
     "data": {
      "text/plain": [
       "0.989827255278311"
      ]
     },
     "execution_count": 307,
     "metadata": {},
     "output_type": "execute_result"
    }
   ],
   "source": [
    "et.score(X_train, y_train)"
   ]
  },
  {
   "cell_type": "code",
   "execution_count": 308,
   "metadata": {},
   "outputs": [
    {
     "data": {
      "text/plain": [
       "0.8342287029930928"
      ]
     },
     "execution_count": 308,
     "metadata": {},
     "output_type": "execute_result"
    }
   ],
   "source": [
    "et.score(X_test, y_test)"
   ]
  },
  {
   "cell_type": "code",
   "execution_count": 312,
   "metadata": {},
   "outputs": [],
   "source": [
    "et_params = {\n",
    "  'n_estimators' : [100, 200, 300]\n",
    "}\n",
    "\n",
    "\n",
    "etGrid = GridSearchCV(ExtraTreesClassifier(), \n",
    "                              et_params, \n",
    "                              cv = 5, \n",
    "                              n_jobs=-1)"
   ]
  },
  {
   "cell_type": "code",
   "execution_count": 313,
   "metadata": {},
   "outputs": [
    {
     "data": {
      "text/plain": [
       "GridSearchCV(cv=5, error_score=nan,\n",
       "             estimator=ExtraTreesClassifier(bootstrap=False, ccp_alpha=0.0,\n",
       "                                            class_weight=None, criterion='gini',\n",
       "                                            max_depth=None, max_features='auto',\n",
       "                                            max_leaf_nodes=None,\n",
       "                                            max_samples=None,\n",
       "                                            min_impurity_decrease=0.0,\n",
       "                                            min_impurity_split=None,\n",
       "                                            min_samples_leaf=1,\n",
       "                                            min_samples_split=2,\n",
       "                                            min_weight_fraction_leaf=0.0,\n",
       "                                            n_estimators=100, n_jobs=None,\n",
       "                                            oob_score=False, random_state=None,\n",
       "                                            verbose=0, warm_start=False),\n",
       "             iid='deprecated', n_jobs=-1,\n",
       "             param_grid={'n_estimators': [100, 200, 300]},\n",
       "             pre_dispatch='2*n_jobs', refit=True, return_train_score=False,\n",
       "             scoring=None, verbose=0)"
      ]
     },
     "execution_count": 313,
     "metadata": {},
     "output_type": "execute_result"
    }
   ],
   "source": [
    "etGrid.fit(X_train, y_train)"
   ]
  },
  {
   "cell_type": "code",
   "execution_count": 314,
   "metadata": {},
   "outputs": [
    {
     "data": {
      "text/plain": [
       "0.989827255278311"
      ]
     },
     "execution_count": 314,
     "metadata": {},
     "output_type": "execute_result"
    }
   ],
   "source": [
    "etGrid.score(X_train, y_train)"
   ]
  },
  {
   "cell_type": "code",
   "execution_count": 315,
   "metadata": {},
   "outputs": [
    {
     "data": {
      "text/plain": [
       "0.841903300076746"
      ]
     },
     "execution_count": 315,
     "metadata": {},
     "output_type": "execute_result"
    }
   ],
   "source": [
    "etGrid.score(X_test, y_test)"
   ]
  },
  {
   "cell_type": "code",
   "execution_count": 309,
   "metadata": {},
   "outputs": [],
   "source": [
    "df2 = pd.read_csv('cleaned_test_data.csv')"
   ]
  },
  {
   "cell_type": "code",
   "execution_count": 311,
   "metadata": {},
   "outputs": [
    {
     "data": {
      "text/html": [
       "<div>\n",
       "<style scoped>\n",
       "    .dataframe tbody tr th:only-of-type {\n",
       "        vertical-align: middle;\n",
       "    }\n",
       "\n",
       "    .dataframe tbody tr th {\n",
       "        vertical-align: top;\n",
       "    }\n",
       "\n",
       "    .dataframe thead th {\n",
       "        text-align: right;\n",
       "    }\n",
       "</style>\n",
       "<table border=\"1\" class=\"dataframe\">\n",
       "  <thead>\n",
       "    <tr style=\"text-align: right;\">\n",
       "      <th></th>\n",
       "      <th>age</th>\n",
       "      <th>workclass</th>\n",
       "      <th>education-num</th>\n",
       "      <th>marital-status</th>\n",
       "      <th>occupation</th>\n",
       "      <th>relationship</th>\n",
       "      <th>sex</th>\n",
       "      <th>capital-gain</th>\n",
       "      <th>capital-loss</th>\n",
       "      <th>hours-per-week</th>\n",
       "      <th>native-country</th>\n",
       "    </tr>\n",
       "  </thead>\n",
       "  <tbody>\n",
       "    <tr>\n",
       "      <th>0</th>\n",
       "      <td>25</td>\n",
       "      <td>3</td>\n",
       "      <td>7</td>\n",
       "      <td>4</td>\n",
       "      <td>6</td>\n",
       "      <td>3</td>\n",
       "      <td>1</td>\n",
       "      <td>0</td>\n",
       "      <td>0</td>\n",
       "      <td>40</td>\n",
       "      <td>37</td>\n",
       "    </tr>\n",
       "    <tr>\n",
       "      <th>1</th>\n",
       "      <td>38</td>\n",
       "      <td>3</td>\n",
       "      <td>9</td>\n",
       "      <td>2</td>\n",
       "      <td>4</td>\n",
       "      <td>0</td>\n",
       "      <td>1</td>\n",
       "      <td>0</td>\n",
       "      <td>0</td>\n",
       "      <td>50</td>\n",
       "      <td>37</td>\n",
       "    </tr>\n",
       "    <tr>\n",
       "      <th>2</th>\n",
       "      <td>28</td>\n",
       "      <td>1</td>\n",
       "      <td>12</td>\n",
       "      <td>2</td>\n",
       "      <td>10</td>\n",
       "      <td>0</td>\n",
       "      <td>1</td>\n",
       "      <td>0</td>\n",
       "      <td>0</td>\n",
       "      <td>40</td>\n",
       "      <td>37</td>\n",
       "    </tr>\n",
       "    <tr>\n",
       "      <th>3</th>\n",
       "      <td>44</td>\n",
       "      <td>3</td>\n",
       "      <td>10</td>\n",
       "      <td>2</td>\n",
       "      <td>6</td>\n",
       "      <td>0</td>\n",
       "      <td>1</td>\n",
       "      <td>7688</td>\n",
       "      <td>0</td>\n",
       "      <td>40</td>\n",
       "      <td>37</td>\n",
       "    </tr>\n",
       "    <tr>\n",
       "      <th>4</th>\n",
       "      <td>18</td>\n",
       "      <td>3</td>\n",
       "      <td>10</td>\n",
       "      <td>4</td>\n",
       "      <td>7</td>\n",
       "      <td>3</td>\n",
       "      <td>0</td>\n",
       "      <td>0</td>\n",
       "      <td>0</td>\n",
       "      <td>30</td>\n",
       "      <td>37</td>\n",
       "    </tr>\n",
       "    <tr>\n",
       "      <th>...</th>\n",
       "      <td>...</td>\n",
       "      <td>...</td>\n",
       "      <td>...</td>\n",
       "      <td>...</td>\n",
       "      <td>...</td>\n",
       "      <td>...</td>\n",
       "      <td>...</td>\n",
       "      <td>...</td>\n",
       "      <td>...</td>\n",
       "      <td>...</td>\n",
       "      <td>...</td>\n",
       "    </tr>\n",
       "    <tr>\n",
       "      <th>82</th>\n",
       "      <td>24</td>\n",
       "      <td>3</td>\n",
       "      <td>10</td>\n",
       "      <td>5</td>\n",
       "      <td>7</td>\n",
       "      <td>1</td>\n",
       "      <td>1</td>\n",
       "      <td>0</td>\n",
       "      <td>1876</td>\n",
       "      <td>40</td>\n",
       "      <td>37</td>\n",
       "    </tr>\n",
       "    <tr>\n",
       "      <th>83</th>\n",
       "      <td>44</td>\n",
       "      <td>4</td>\n",
       "      <td>9</td>\n",
       "      <td>2</td>\n",
       "      <td>2</td>\n",
       "      <td>0</td>\n",
       "      <td>1</td>\n",
       "      <td>99999</td>\n",
       "      <td>0</td>\n",
       "      <td>50</td>\n",
       "      <td>37</td>\n",
       "    </tr>\n",
       "    <tr>\n",
       "      <th>84</th>\n",
       "      <td>31</td>\n",
       "      <td>5</td>\n",
       "      <td>10</td>\n",
       "      <td>2</td>\n",
       "      <td>2</td>\n",
       "      <td>0</td>\n",
       "      <td>1</td>\n",
       "      <td>0</td>\n",
       "      <td>0</td>\n",
       "      <td>50</td>\n",
       "      <td>37</td>\n",
       "    </tr>\n",
       "    <tr>\n",
       "      <th>85</th>\n",
       "      <td>43</td>\n",
       "      <td>3</td>\n",
       "      <td>9</td>\n",
       "      <td>5</td>\n",
       "      <td>6</td>\n",
       "      <td>1</td>\n",
       "      <td>0</td>\n",
       "      <td>0</td>\n",
       "      <td>0</td>\n",
       "      <td>44</td>\n",
       "      <td>37</td>\n",
       "    </tr>\n",
       "    <tr>\n",
       "      <th>86</th>\n",
       "      <td>20</td>\n",
       "      <td>0</td>\n",
       "      <td>7</td>\n",
       "      <td>4</td>\n",
       "      <td>7</td>\n",
       "      <td>3</td>\n",
       "      <td>0</td>\n",
       "      <td>0</td>\n",
       "      <td>0</td>\n",
       "      <td>10</td>\n",
       "      <td>37</td>\n",
       "    </tr>\n",
       "  </tbody>\n",
       "</table>\n",
       "<p>87 rows × 11 columns</p>\n",
       "</div>"
      ],
      "text/plain": [
       "    age  workclass  education-num  marital-status  occupation  relationship  \\\n",
       "0    25          3              7               4           6             3   \n",
       "1    38          3              9               2           4             0   \n",
       "2    28          1             12               2          10             0   \n",
       "3    44          3             10               2           6             0   \n",
       "4    18          3             10               4           7             3   \n",
       "..  ...        ...            ...             ...         ...           ...   \n",
       "82   24          3             10               5           7             1   \n",
       "83   44          4              9               2           2             0   \n",
       "84   31          5             10               2           2             0   \n",
       "85   43          3              9               5           6             1   \n",
       "86   20          0              7               4           7             3   \n",
       "\n",
       "    sex  capital-gain  capital-loss  hours-per-week  native-country  \n",
       "0     1             0             0              40              37  \n",
       "1     1             0             0              50              37  \n",
       "2     1             0             0              40              37  \n",
       "3     1          7688             0              40              37  \n",
       "4     0             0             0              30              37  \n",
       "..  ...           ...           ...             ...             ...  \n",
       "82    1             0          1876              40              37  \n",
       "83    1         99999             0              50              37  \n",
       "84    1             0             0              50              37  \n",
       "85    0             0             0              44              37  \n",
       "86    0             0             0              10              37  \n",
       "\n",
       "[87 rows x 11 columns]"
      ]
     },
     "execution_count": 311,
     "metadata": {},
     "output_type": "execute_result"
    }
   ],
   "source": [
    "df2.head(87)"
   ]
  },
  {
   "cell_type": "code",
   "execution_count": 327,
   "metadata": {},
   "outputs": [],
   "source": [
    "X_clean_test = ss.transform(df2)"
   ]
  },
  {
   "cell_type": "code",
   "execution_count": 343,
   "metadata": {},
   "outputs": [],
   "source": [
    "predicted_wage = gbs.predict_proba(X_clean_test)"
   ]
  },
  {
   "cell_type": "code",
   "execution_count": 344,
   "metadata": {},
   "outputs": [
    {
     "data": {
      "text/plain": [
       "array([[0.5091969 , 0.4908031 ],\n",
       "       [0.50319269, 0.49680731],\n",
       "       [0.50256829, 0.49743171],\n",
       "       ...,\n",
       "       [0.50006213, 0.49993787],\n",
       "       [0.49603176, 0.50396824],\n",
       "       [0.49934186, 0.50065814]])"
      ]
     },
     "execution_count": 344,
     "metadata": {},
     "output_type": "execute_result"
    }
   ],
   "source": [
    "predicted_wage"
   ]
  },
  {
   "cell_type": "code",
   "execution_count": 345,
   "metadata": {},
   "outputs": [],
   "source": [
    "predicted_wage = list(predicted_wage)"
   ]
  },
  {
   "cell_type": "code",
   "execution_count": 346,
   "metadata": {},
   "outputs": [
    {
     "data": {
      "text/plain": [
       "[array([0.5091969, 0.4908031]),\n",
       " array([0.50319269, 0.49680731]),\n",
       " array([0.50256829, 0.49743171]),\n",
       " array([0.49841305, 0.50158695]),\n",
       " array([0.51093587, 0.48906413]),\n",
       " array([0.50987316, 0.49012684]),\n",
       " array([0.50728816, 0.49271184]),\n",
       " array([0.49640946, 0.50359054]),\n",
       " array([0.50951946, 0.49048054]),\n",
       " array([0.50966995, 0.49033005]),\n",
       " array([0.49799121, 0.50200879]),\n",
       " array([0.50066822, 0.49933178]),\n",
       " array([0.50960968, 0.49039032]),\n",
       " array([0.50282497, 0.49717503]),\n",
       " array([0.50069654, 0.49930346]),\n",
       " array([0.49866331, 0.50133669]),\n",
       " array([0.50920452, 0.49079548]),\n",
       " array([0.50796377, 0.49203623]),\n",
       " array([0.51274554, 0.48725446]),\n",
       " array([0.49795939, 0.50204061]),\n",
       " array([0.50080345, 0.49919655]),\n",
       " array([0.50892825, 0.49107175]),\n",
       " array([0.50945389, 0.49054611]),\n",
       " array([0.50388925, 0.49611075]),\n",
       " array([0.50229836, 0.49770164]),\n",
       " array([0.49446049, 0.50553951]),\n",
       " array([0.50977539, 0.49022461]),\n",
       " array([0.50731792, 0.49268208]),\n",
       " array([0.50317946, 0.49682054]),\n",
       " array([0.50409363, 0.49590637]),\n",
       " array([0.49878419, 0.50121581]),\n",
       " array([0.50982652, 0.49017348]),\n",
       " array([0.50347776, 0.49652224]),\n",
       " array([0.50465296, 0.49534704]),\n",
       " array([0.50681473, 0.49318527]),\n",
       " array([0.50166001, 0.49833999]),\n",
       " array([0.50099014, 0.49900986]),\n",
       " array([0.51168255, 0.48831745]),\n",
       " array([0.51042778, 0.48957222]),\n",
       " array([0.5079682, 0.4920318]),\n",
       " array([0.49672377, 0.50327623]),\n",
       " array([0.50180441, 0.49819559]),\n",
       " array([0.504398, 0.495602]),\n",
       " array([0.50673099, 0.49326901]),\n",
       " array([0.50843112, 0.49156888]),\n",
       " array([0.50732591, 0.49267409]),\n",
       " array([0.50825998, 0.49174002]),\n",
       " array([0.49879724, 0.50120276]),\n",
       " array([0.51189996, 0.48810004]),\n",
       " array([0.50750121, 0.49249879]),\n",
       " array([0.50948477, 0.49051523]),\n",
       " array([0.50300464, 0.49699536]),\n",
       " array([0.50834676, 0.49165324]),\n",
       " array([0.49733582, 0.50266418]),\n",
       " array([0.5071155, 0.4928845]),\n",
       " array([0.50949487, 0.49050513]),\n",
       " array([0.50182708, 0.49817292]),\n",
       " array([0.49823413, 0.50176587]),\n",
       " array([0.49992695, 0.50007305]),\n",
       " array([0.50469948, 0.49530052]),\n",
       " array([0.50494478, 0.49505522]),\n",
       " array([0.50199226, 0.49800774]),\n",
       " array([0.50552943, 0.49447057]),\n",
       " array([0.50930061, 0.49069939]),\n",
       " array([0.5040189, 0.4959811]),\n",
       " array([0.50501329, 0.49498671]),\n",
       " array([0.49083696, 0.50916304]),\n",
       " array([0.50939109, 0.49060891]),\n",
       " array([0.50624062, 0.49375938]),\n",
       " array([0.50307022, 0.49692978]),\n",
       " array([0.49254927, 0.50745073]),\n",
       " array([0.50200763, 0.49799237]),\n",
       " array([0.50514493, 0.49485507]),\n",
       " array([0.51008115, 0.48991885]),\n",
       " array([0.50296655, 0.49703345]),\n",
       " array([0.51077445, 0.48922555]),\n",
       " array([0.50295227, 0.49704773]),\n",
       " array([0.50260464, 0.49739536]),\n",
       " array([0.50326929, 0.49673071]),\n",
       " array([0.5092622, 0.4907378]),\n",
       " array([0.50190802, 0.49809198]),\n",
       " array([0.50414914, 0.49585086]),\n",
       " array([0.50418965, 0.49581035]),\n",
       " array([0.44483827, 0.55516173]),\n",
       " array([0.50327725, 0.49672275]),\n",
       " array([0.50844126, 0.49155874]),\n",
       " array([0.51479001, 0.48520999]),\n",
       " array([0.50113131, 0.49886869]),\n",
       " array([0.50602274, 0.49397726]),\n",
       " array([0.50186253, 0.49813747]),\n",
       " array([0.50477194, 0.49522806]),\n",
       " array([0.51068518, 0.48931482]),\n",
       " array([0.50407089, 0.49592911]),\n",
       " array([0.4970537, 0.5029463]),\n",
       " array([0.50239169, 0.49760831]),\n",
       " array([0.50802926, 0.49197074]),\n",
       " array([0.50675752, 0.49324248]),\n",
       " array([0.50560388, 0.49439612]),\n",
       " array([0.50242588, 0.49757412]),\n",
       " array([0.51007, 0.48993]),\n",
       " array([0.50781076, 0.49218924]),\n",
       " array([0.50904265, 0.49095735]),\n",
       " array([0.50729857, 0.49270143]),\n",
       " array([0.51178263, 0.48821737]),\n",
       " array([0.5101273, 0.4898727]),\n",
       " array([0.51192728, 0.48807272]),\n",
       " array([0.50377425, 0.49622575]),\n",
       " array([0.50593355, 0.49406645]),\n",
       " array([0.50975742, 0.49024258]),\n",
       " array([0.51162075, 0.48837925]),\n",
       " array([0.50989175, 0.49010825]),\n",
       " array([0.50429891, 0.49570109]),\n",
       " array([0.50341751, 0.49658249]),\n",
       " array([0.51265497, 0.48734503]),\n",
       " array([0.50323547, 0.49676453]),\n",
       " array([0.5076303, 0.4923697]),\n",
       " array([0.50342019, 0.49657981]),\n",
       " array([0.5131746, 0.4868254]),\n",
       " array([0.50750016, 0.49249984]),\n",
       " array([0.50215245, 0.49784755]),\n",
       " array([0.50092305, 0.49907695]),\n",
       " array([0.51152599, 0.48847401]),\n",
       " array([0.50843452, 0.49156548]),\n",
       " array([0.50429475, 0.49570525]),\n",
       " array([0.50544993, 0.49455007]),\n",
       " array([0.50376149, 0.49623851]),\n",
       " array([0.50058839, 0.49941161]),\n",
       " array([0.50736114, 0.49263886]),\n",
       " array([0.50364161, 0.49635839]),\n",
       " array([0.49487597, 0.50512403]),\n",
       " array([0.50303997, 0.49696003]),\n",
       " array([0.51022549, 0.48977451]),\n",
       " array([0.51007, 0.48993]),\n",
       " array([0.49831782, 0.50168218]),\n",
       " array([0.50157501, 0.49842499]),\n",
       " array([0.50689271, 0.49310729]),\n",
       " array([0.5025047, 0.4974953]),\n",
       " array([0.50726052, 0.49273948]),\n",
       " array([0.50851395, 0.49148605]),\n",
       " array([0.50804002, 0.49195998]),\n",
       " array([0.49952226, 0.50047774]),\n",
       " array([0.51190627, 0.48809373]),\n",
       " array([0.49800801, 0.50199199]),\n",
       " array([0.50015013, 0.49984987]),\n",
       " array([0.50624617, 0.49375383]),\n",
       " array([0.51051825, 0.48948175]),\n",
       " array([0.50939596, 0.49060404]),\n",
       " array([0.50482162, 0.49517838]),\n",
       " array([0.48961694, 0.51038306]),\n",
       " array([0.50724737, 0.49275263]),\n",
       " array([0.50883215, 0.49116785]),\n",
       " array([0.51101722, 0.48898278]),\n",
       " array([0.50920218, 0.49079782]),\n",
       " array([0.50955971, 0.49044029]),\n",
       " array([0.4974152, 0.5025848]),\n",
       " array([0.50912014, 0.49087986]),\n",
       " array([0.50680233, 0.49319767]),\n",
       " array([0.50593247, 0.49406753]),\n",
       " array([0.50673229, 0.49326771]),\n",
       " array([0.4996375, 0.5003625]),\n",
       " array([0.50531255, 0.49468745]),\n",
       " array([0.50491533, 0.49508467]),\n",
       " array([0.50516025, 0.49483975]),\n",
       " array([0.50407618, 0.49592382]),\n",
       " array([0.4993072, 0.5006928]),\n",
       " array([0.50403815, 0.49596185]),\n",
       " array([0.49950194, 0.50049806]),\n",
       " array([0.50328608, 0.49671392]),\n",
       " array([0.50990625, 0.49009375]),\n",
       " array([0.5012921, 0.4987079]),\n",
       " array([0.49961171, 0.50038829]),\n",
       " array([0.5024324, 0.4975676]),\n",
       " array([0.50627635, 0.49372365]),\n",
       " array([0.50080707, 0.49919293]),\n",
       " array([0.50443022, 0.49556978]),\n",
       " array([0.50306064, 0.49693936]),\n",
       " array([0.50343819, 0.49656181]),\n",
       " array([0.5035612, 0.4964388]),\n",
       " array([0.50394243, 0.49605757]),\n",
       " array([0.50033569, 0.49966431]),\n",
       " array([0.49993433, 0.50006567]),\n",
       " array([0.49310311, 0.50689689]),\n",
       " array([0.50822861, 0.49177139]),\n",
       " array([0.50540209, 0.49459791]),\n",
       " array([0.50529095, 0.49470905]),\n",
       " array([0.50448033, 0.49551967]),\n",
       " array([0.50076351, 0.49923649]),\n",
       " array([0.5064244, 0.4935756]),\n",
       " array([0.50274359, 0.49725641]),\n",
       " array([0.50951632, 0.49048368]),\n",
       " array([0.4980725, 0.5019275]),\n",
       " array([0.50256514, 0.49743486]),\n",
       " array([0.50379358, 0.49620642]),\n",
       " array([0.50785685, 0.49214315]),\n",
       " array([0.5086542, 0.4913458]),\n",
       " array([0.50553825, 0.49446175]),\n",
       " array([0.50430002, 0.49569998]),\n",
       " array([0.50149558, 0.49850442]),\n",
       " array([0.51028578, 0.48971422]),\n",
       " array([0.50526172, 0.49473828]),\n",
       " array([0.50202906, 0.49797094]),\n",
       " array([0.50101582, 0.49898418]),\n",
       " array([0.49718893, 0.50281107]),\n",
       " array([0.50164694, 0.49835306]),\n",
       " array([0.50157169, 0.49842831]),\n",
       " array([0.50020922, 0.49979078]),\n",
       " array([0.50755388, 0.49244612]),\n",
       " array([0.5026688, 0.4973312]),\n",
       " array([0.50372274, 0.49627726]),\n",
       " array([0.50267415, 0.49732585]),\n",
       " array([0.51238329, 0.48761671]),\n",
       " array([0.50824496, 0.49175504]),\n",
       " array([0.49986214, 0.50013786]),\n",
       " array([0.5010678, 0.4989322]),\n",
       " array([0.50794228, 0.49205772]),\n",
       " array([0.50322049, 0.49677951]),\n",
       " array([0.50692377, 0.49307623]),\n",
       " array([0.51298662, 0.48701338]),\n",
       " array([0.50580626, 0.49419374]),\n",
       " array([0.50610962, 0.49389038]),\n",
       " array([0.5013714, 0.4986286]),\n",
       " array([0.50982336, 0.49017664]),\n",
       " array([0.50635118, 0.49364882]),\n",
       " array([0.50317983, 0.49682017]),\n",
       " array([0.50053808, 0.49946192]),\n",
       " array([0.50308068, 0.49691932]),\n",
       " array([0.49180331, 0.50819669]),\n",
       " array([0.5025072, 0.4974928]),\n",
       " array([0.51317269, 0.48682731]),\n",
       " array([0.50039918, 0.49960082]),\n",
       " array([0.50908556, 0.49091444]),\n",
       " array([0.49844594, 0.50155406]),\n",
       " array([0.50230579, 0.49769421]),\n",
       " array([0.50474827, 0.49525173]),\n",
       " array([0.50163105, 0.49836895]),\n",
       " array([0.50259653, 0.49740347]),\n",
       " array([0.49934008, 0.50065992]),\n",
       " array([0.51012782, 0.48987218]),\n",
       " array([0.50892397, 0.49107603]),\n",
       " array([0.50504975, 0.49495025]),\n",
       " array([0.5103019, 0.4896981]),\n",
       " array([0.49732857, 0.50267143]),\n",
       " array([0.5126735, 0.4873265]),\n",
       " array([0.50242837, 0.49757163]),\n",
       " array([0.51102035, 0.48897965]),\n",
       " array([0.50630307, 0.49369693]),\n",
       " array([0.50451207, 0.49548793]),\n",
       " array([0.50824896, 0.49175104]),\n",
       " array([0.50049662, 0.49950338]),\n",
       " array([0.50410508, 0.49589492]),\n",
       " array([0.50979392, 0.49020608]),\n",
       " array([0.50360248, 0.49639752]),\n",
       " array([0.50239208, 0.49760792]),\n",
       " array([0.50207473, 0.49792527]),\n",
       " array([0.50317235, 0.49682765]),\n",
       " array([0.50749368, 0.49250632]),\n",
       " array([0.49673876, 0.50326124]),\n",
       " array([0.50843249, 0.49156751]),\n",
       " array([0.50722262, 0.49277738]),\n",
       " array([0.49795211, 0.50204789]),\n",
       " array([0.50452539, 0.49547461]),\n",
       " array([0.50271731, 0.49728269]),\n",
       " array([0.50860221, 0.49139779]),\n",
       " array([0.50660275, 0.49339725]),\n",
       " array([0.50543572, 0.49456428]),\n",
       " array([0.50246302, 0.49753698]),\n",
       " array([0.50201451, 0.49798549]),\n",
       " array([0.50896367, 0.49103633]),\n",
       " array([0.51073626, 0.48926374]),\n",
       " array([0.51194485, 0.48805515]),\n",
       " array([0.50184578, 0.49815422]),\n",
       " array([0.50494375, 0.49505625]),\n",
       " array([0.50423135, 0.49576865]),\n",
       " array([0.50180533, 0.49819467]),\n",
       " array([0.50337496, 0.49662504]),\n",
       " array([0.51114118, 0.48885882]),\n",
       " array([0.50121624, 0.49878376]),\n",
       " array([0.5114603, 0.4885397]),\n",
       " array([0.4894542, 0.5105458]),\n",
       " array([0.50496112, 0.49503888]),\n",
       " array([0.50403496, 0.49596504]),\n",
       " array([0.50499676, 0.49500324]),\n",
       " array([0.51141695, 0.48858305]),\n",
       " array([0.50572146, 0.49427854]),\n",
       " array([0.50006245, 0.49993755]),\n",
       " array([0.50660265, 0.49339735]),\n",
       " array([0.50786224, 0.49213776]),\n",
       " array([0.50277499, 0.49722501]),\n",
       " array([0.5010143, 0.4989857]),\n",
       " array([0.50672522, 0.49327478]),\n",
       " array([0.50228852, 0.49771148]),\n",
       " array([0.50431236, 0.49568764]),\n",
       " array([0.50466954, 0.49533046]),\n",
       " array([0.50767833, 0.49232167]),\n",
       " array([0.50486923, 0.49513077]),\n",
       " array([0.50504733, 0.49495267]),\n",
       " array([0.50939941, 0.49060059]),\n",
       " array([0.50787031, 0.49212969]),\n",
       " array([0.48682688, 0.51317312]),\n",
       " array([0.50102348, 0.49897652]),\n",
       " array([0.50326811, 0.49673189]),\n",
       " array([0.50589583, 0.49410417]),\n",
       " array([0.50474747, 0.49525253]),\n",
       " array([0.50665153, 0.49334847]),\n",
       " array([0.50966374, 0.49033626]),\n",
       " array([0.50317165, 0.49682835]),\n",
       " array([0.50755661, 0.49244339]),\n",
       " array([0.5043208, 0.4956792]),\n",
       " array([0.49868586, 0.50131414]),\n",
       " array([0.4971189, 0.5028811]),\n",
       " array([0.49947604, 0.50052396]),\n",
       " array([0.50703396, 0.49296604]),\n",
       " array([0.50033205, 0.49966795]),\n",
       " array([0.49851946, 0.50148054]),\n",
       " array([0.50593679, 0.49406321]),\n",
       " array([0.50048087, 0.49951913]),\n",
       " array([0.50691531, 0.49308469]),\n",
       " array([0.51110602, 0.48889398]),\n",
       " array([0.50105164, 0.49894836]),\n",
       " array([0.50143995, 0.49856005]),\n",
       " array([0.50356501, 0.49643499]),\n",
       " array([0.49940975, 0.50059025]),\n",
       " array([0.50426358, 0.49573642]),\n",
       " array([0.50873918, 0.49126082]),\n",
       " array([0.50834452, 0.49165548]),\n",
       " array([0.49972261, 0.50027739]),\n",
       " array([0.50063526, 0.49936474]),\n",
       " array([0.51241663, 0.48758337]),\n",
       " array([0.50117548, 0.49882452]),\n",
       " array([0.48675035, 0.51324965]),\n",
       " array([0.51025185, 0.48974815]),\n",
       " array([0.50671248, 0.49328752]),\n",
       " array([0.50238936, 0.49761064]),\n",
       " array([0.50300953, 0.49699047]),\n",
       " array([0.49630548, 0.50369452]),\n",
       " array([0.510877, 0.489123]),\n",
       " array([0.5072691, 0.4927309]),\n",
       " array([0.5113745, 0.4886255]),\n",
       " array([0.500465, 0.499535]),\n",
       " array([0.50070666, 0.49929334]),\n",
       " array([0.50523716, 0.49476284]),\n",
       " array([0.50192827, 0.49807173]),\n",
       " array([0.50991905, 0.49008095]),\n",
       " array([0.49966929, 0.50033071]),\n",
       " array([0.49540321, 0.50459679]),\n",
       " array([0.50534803, 0.49465197]),\n",
       " array([0.44767356, 0.55232644]),\n",
       " array([0.50221522, 0.49778478]),\n",
       " array([0.50997672, 0.49002328]),\n",
       " array([0.50224034, 0.49775966]),\n",
       " array([0.50998319, 0.49001681]),\n",
       " array([0.50876586, 0.49123414]),\n",
       " array([0.50553932, 0.49446068]),\n",
       " array([0.50997328, 0.49002672]),\n",
       " array([0.50047722, 0.49952278]),\n",
       " array([0.50015585, 0.49984415]),\n",
       " array([0.50286595, 0.49713405]),\n",
       " array([0.43676962, 0.56323038]),\n",
       " array([0.50384027, 0.49615973]),\n",
       " array([0.50575945, 0.49424055]),\n",
       " array([0.50587961, 0.49412039]),\n",
       " array([0.49930456, 0.50069544]),\n",
       " array([0.50187339, 0.49812661]),\n",
       " array([0.50690721, 0.49309279]),\n",
       " array([0.50155885, 0.49844115]),\n",
       " array([0.50066092, 0.49933908]),\n",
       " array([0.50002267, 0.49997733]),\n",
       " array([0.50113056, 0.49886944]),\n",
       " array([0.50756062, 0.49243938]),\n",
       " array([0.50961875, 0.49038125]),\n",
       " array([0.50210055, 0.49789945]),\n",
       " array([0.51066844, 0.48933156]),\n",
       " array([0.50548176, 0.49451824]),\n",
       " array([0.50014756, 0.49985244]),\n",
       " array([0.50642491, 0.49357509]),\n",
       " array([0.50400281, 0.49599719]),\n",
       " array([0.50278369, 0.49721631]),\n",
       " array([0.51012696, 0.48987304]),\n",
       " array([0.50323744, 0.49676256]),\n",
       " array([0.51006802, 0.48993198]),\n",
       " array([0.50399904, 0.49600096]),\n",
       " array([0.50327624, 0.49672376]),\n",
       " array([0.49740102, 0.50259898]),\n",
       " array([0.50969228, 0.49030772]),\n",
       " array([0.50084763, 0.49915237]),\n",
       " array([0.50592981, 0.49407019]),\n",
       " array([0.50490386, 0.49509614]),\n",
       " array([0.51192304, 0.48807696]),\n",
       " array([0.50544307, 0.49455693]),\n",
       " array([0.49827852, 0.50172148]),\n",
       " array([0.50011133, 0.49988867]),\n",
       " array([0.50716147, 0.49283853]),\n",
       " array([0.50229473, 0.49770527]),\n",
       " array([0.51022549, 0.48977451]),\n",
       " array([0.50648375, 0.49351625]),\n",
       " array([0.50523223, 0.49476777]),\n",
       " array([0.49995909, 0.50004091]),\n",
       " array([0.504494, 0.495506]),\n",
       " array([0.50004981, 0.49995019]),\n",
       " array([0.50030193, 0.49969807]),\n",
       " array([0.50509472, 0.49490528]),\n",
       " array([0.50952706, 0.49047294]),\n",
       " array([0.51404235, 0.48595765]),\n",
       " array([0.50570956, 0.49429044]),\n",
       " array([0.50123795, 0.49876205]),\n",
       " array([0.50525998, 0.49474002]),\n",
       " array([0.50239708, 0.49760292]),\n",
       " array([0.50716107, 0.49283893]),\n",
       " array([0.50890014, 0.49109986]),\n",
       " array([0.50599434, 0.49400566]),\n",
       " array([0.50769718, 0.49230282]),\n",
       " array([0.50788299, 0.49211701]),\n",
       " array([0.50445657, 0.49554343]),\n",
       " array([0.50706684, 0.49293316]),\n",
       " array([0.50590634, 0.49409366]),\n",
       " array([0.50569338, 0.49430662]),\n",
       " array([0.50599843, 0.49400157]),\n",
       " array([0.50475029, 0.49524971]),\n",
       " array([0.44027407, 0.55972593]),\n",
       " array([0.50157018, 0.49842982]),\n",
       " array([0.5073569, 0.4926431]),\n",
       " array([0.50564885, 0.49435115]),\n",
       " array([0.50673215, 0.49326785]),\n",
       " array([0.50370934, 0.49629066]),\n",
       " array([0.50912647, 0.49087353]),\n",
       " array([0.5066319, 0.4933681]),\n",
       " array([0.50331424, 0.49668576]),\n",
       " array([0.50890858, 0.49109142]),\n",
       " array([0.50911624, 0.49088376]),\n",
       " array([0.50995875, 0.49004125]),\n",
       " array([0.50107805, 0.49892195]),\n",
       " array([0.51001152, 0.48998848]),\n",
       " array([0.50716877, 0.49283123]),\n",
       " array([0.50987425, 0.49012575]),\n",
       " array([0.5117172, 0.4882828]),\n",
       " array([0.4983002, 0.5016998]),\n",
       " array([0.49997294, 0.50002706]),\n",
       " array([0.51009162, 0.48990838]),\n",
       " array([0.50177578, 0.49822422]),\n",
       " array([0.49739468, 0.50260532]),\n",
       " array([0.5031921, 0.4968079]),\n",
       " array([0.50243279, 0.49756721]),\n",
       " array([0.50692036, 0.49307964]),\n",
       " array([0.50215064, 0.49784936]),\n",
       " array([0.51203468, 0.48796532]),\n",
       " array([0.49656662, 0.50343338]),\n",
       " array([0.5001945, 0.4998055]),\n",
       " array([0.50389645, 0.49610355]),\n",
       " array([0.50441451, 0.49558549]),\n",
       " array([0.50543623, 0.49456377]),\n",
       " array([0.50490353, 0.49509647]),\n",
       " array([0.50114339, 0.49885661]),\n",
       " array([0.49938735, 0.50061265]),\n",
       " array([0.50485149, 0.49514851]),\n",
       " array([0.5069408, 0.4930592]),\n",
       " array([0.50633696, 0.49366304]),\n",
       " array([0.50472912, 0.49527088]),\n",
       " array([0.49862892, 0.50137108]),\n",
       " array([0.51053038, 0.48946962]),\n",
       " array([0.50411712, 0.49588288]),\n",
       " array([0.50695041, 0.49304959]),\n",
       " array([0.50442374, 0.49557626]),\n",
       " array([0.49899118, 0.50100882]),\n",
       " array([0.50812842, 0.49187158]),\n",
       " array([0.50403173, 0.49596827]),\n",
       " array([0.50903844, 0.49096156]),\n",
       " array([0.49889034, 0.50110966]),\n",
       " array([0.50312678, 0.49687322]),\n",
       " array([0.50321781, 0.49678219]),\n",
       " array([0.50812296, 0.49187704]),\n",
       " array([0.5117172, 0.4882828]),\n",
       " array([0.50321989, 0.49678011]),\n",
       " array([0.50297648, 0.49702352]),\n",
       " array([0.50163639, 0.49836361]),\n",
       " array([0.50515278, 0.49484722]),\n",
       " array([0.50271466, 0.49728534]),\n",
       " array([0.5057424, 0.4942576]),\n",
       " array([0.50644682, 0.49355318]),\n",
       " array([0.50871077, 0.49128923]),\n",
       " array([0.50415162, 0.49584838]),\n",
       " array([0.5053103, 0.4946897]),\n",
       " array([0.500522, 0.499478]),\n",
       " array([0.50959041, 0.49040959]),\n",
       " array([0.48156693, 0.51843307]),\n",
       " array([0.5024298, 0.4975702]),\n",
       " array([0.50242969, 0.49757031]),\n",
       " array([0.50819209, 0.49180791]),\n",
       " array([0.50568161, 0.49431839]),\n",
       " array([0.50468651, 0.49531349]),\n",
       " array([0.50504857, 0.49495143]),\n",
       " array([0.50465339, 0.49534661]),\n",
       " array([0.50503646, 0.49496354]),\n",
       " array([0.50440195, 0.49559805]),\n",
       " array([0.50469948, 0.49530052]),\n",
       " array([0.50800517, 0.49199483]),\n",
       " array([0.50219624, 0.49780376]),\n",
       " array([0.5073354, 0.4926646]),\n",
       " array([0.50422104, 0.49577896]),\n",
       " array([0.51157666, 0.48842334]),\n",
       " array([0.49915031, 0.50084969]),\n",
       " array([0.50410773, 0.49589227]),\n",
       " array([0.50337668, 0.49662332]),\n",
       " array([0.50347546, 0.49652454]),\n",
       " array([0.50282849, 0.49717151]),\n",
       " array([0.50231771, 0.49768229]),\n",
       " array([0.50745027, 0.49254973]),\n",
       " array([0.51363573, 0.48636427]),\n",
       " array([0.49198712, 0.50801288]),\n",
       " array([0.50877185, 0.49122815]),\n",
       " array([0.50240754, 0.49759246]),\n",
       " array([0.50739377, 0.49260623]),\n",
       " array([0.5106413, 0.4893587]),\n",
       " array([0.50793521, 0.49206479]),\n",
       " array([0.51196944, 0.48803056]),\n",
       " array([0.50256334, 0.49743666]),\n",
       " array([0.51003378, 0.48996622]),\n",
       " array([0.50809069, 0.49190931]),\n",
       " array([0.5100946, 0.4899054]),\n",
       " array([0.49285966, 0.50714034]),\n",
       " array([0.50771384, 0.49228616]),\n",
       " array([0.5057752, 0.4942248]),\n",
       " array([0.50384823, 0.49615177]),\n",
       " array([0.49818566, 0.50181434]),\n",
       " array([0.50986305, 0.49013695]),\n",
       " array([0.50068117, 0.49931883]),\n",
       " array([0.50888132, 0.49111868]),\n",
       " array([0.50114536, 0.49885464]),\n",
       " array([0.50566382, 0.49433618]),\n",
       " array([0.5041289, 0.4958711]),\n",
       " array([0.49137233, 0.50862767]),\n",
       " array([0.50139926, 0.49860074]),\n",
       " array([0.50700135, 0.49299865]),\n",
       " array([0.50243318, 0.49756682]),\n",
       " array([0.50519643, 0.49480357]),\n",
       " array([0.50330357, 0.49669643]),\n",
       " array([0.50532528, 0.49467472]),\n",
       " array([0.50579316, 0.49420684]),\n",
       " array([0.49979032, 0.50020968]),\n",
       " array([0.501046, 0.498954]),\n",
       " array([0.51190795, 0.48809205]),\n",
       " array([0.50582304, 0.49417696]),\n",
       " array([0.50034328, 0.49965672]),\n",
       " array([0.50206218, 0.49793782]),\n",
       " array([0.50940119, 0.49059881]),\n",
       " array([0.50011415, 0.49988585]),\n",
       " array([0.49894239, 0.50105761]),\n",
       " array([0.50014293, 0.49985707]),\n",
       " array([0.50293667, 0.49706333]),\n",
       " array([0.50345538, 0.49654462]),\n",
       " array([0.50260482, 0.49739518]),\n",
       " array([0.51148064, 0.48851936]),\n",
       " array([0.50717611, 0.49282389]),\n",
       " array([0.49912116, 0.50087884]),\n",
       " array([0.49969348, 0.50030652]),\n",
       " array([0.50204985, 0.49795015]),\n",
       " array([0.50195663, 0.49804337]),\n",
       " array([0.49918712, 0.50081288]),\n",
       " array([0.49986179, 0.50013821]),\n",
       " array([0.49860341, 0.50139659]),\n",
       " array([0.51087799, 0.48912201]),\n",
       " array([0.50921574, 0.49078426]),\n",
       " array([0.50846434, 0.49153566]),\n",
       " array([0.50185302, 0.49814698]),\n",
       " array([0.50424908, 0.49575092]),\n",
       " array([0.50458003, 0.49541997]),\n",
       " array([0.50623637, 0.49376363]),\n",
       " array([0.50433365, 0.49566635]),\n",
       " array([0.50687128, 0.49312872]),\n",
       " array([0.49442029, 0.50557971]),\n",
       " array([0.51053075, 0.48946925]),\n",
       " array([0.50201722, 0.49798278]),\n",
       " array([0.50558189, 0.49441811]),\n",
       " array([0.50222724, 0.49777276]),\n",
       " array([0.50916244, 0.49083756]),\n",
       " array([0.49948693, 0.50051307]),\n",
       " array([0.50219112, 0.49780888]),\n",
       " array([0.49973721, 0.50026279]),\n",
       " array([0.50309866, 0.49690134]),\n",
       " array([0.49935971, 0.50064029]),\n",
       " array([0.50154925, 0.49845075]),\n",
       " array([0.50575867, 0.49424133]),\n",
       " array([0.50503588, 0.49496412]),\n",
       " array([0.49570526, 0.50429474]),\n",
       " array([0.5086763, 0.4913237]),\n",
       " array([0.50571947, 0.49428053]),\n",
       " array([0.50655807, 0.49344193]),\n",
       " array([0.50635912, 0.49364088]),\n",
       " array([0.49714386, 0.50285614]),\n",
       " array([0.51042091, 0.48957909]),\n",
       " array([0.50418216, 0.49581784]),\n",
       " array([0.51161012, 0.48838988]),\n",
       " array([0.50407886, 0.49592114]),\n",
       " array([0.50507747, 0.49492253]),\n",
       " array([0.51194947, 0.48805053]),\n",
       " array([0.49890911, 0.50109089]),\n",
       " array([0.50331424, 0.49668576]),\n",
       " array([0.51102726, 0.48897274]),\n",
       " array([0.50103227, 0.49896773]),\n",
       " array([0.49791876, 0.50208124]),\n",
       " array([0.50756318, 0.49243682]),\n",
       " array([0.50603749, 0.49396251]),\n",
       " array([0.50627288, 0.49372712]),\n",
       " array([0.50341452, 0.49658548]),\n",
       " array([0.49865626, 0.50134374]),\n",
       " array([0.50807687, 0.49192313]),\n",
       " array([0.50939275, 0.49060725]),\n",
       " array([0.5091332, 0.4908668]),\n",
       " array([0.50315717, 0.49684283]),\n",
       " array([0.50485309, 0.49514691]),\n",
       " array([0.5028736, 0.4971264]),\n",
       " array([0.50263494, 0.49736506]),\n",
       " array([0.49525178, 0.50474822]),\n",
       " array([0.50846715, 0.49153285]),\n",
       " array([0.50672067, 0.49327933]),\n",
       " array([0.50713419, 0.49286581]),\n",
       " array([0.50430157, 0.49569843]),\n",
       " array([0.50894864, 0.49105136]),\n",
       " array([0.50098556, 0.49901444]),\n",
       " array([0.50420248, 0.49579752]),\n",
       " array([0.49473746, 0.50526254]),\n",
       " array([0.50364683, 0.49635317]),\n",
       " array([0.50828551, 0.49171449]),\n",
       " array([0.50729585, 0.49270415]),\n",
       " array([0.50229872, 0.49770128]),\n",
       " array([0.50490725, 0.49509275]),\n",
       " array([0.4962447, 0.5037553]),\n",
       " array([0.49871826, 0.50128174]),\n",
       " array([0.49681494, 0.50318506]),\n",
       " array([0.50142129, 0.49857871]),\n",
       " array([0.50397017, 0.49602983]),\n",
       " array([0.50066841, 0.49933159]),\n",
       " array([0.50332503, 0.49667497]),\n",
       " array([0.49924611, 0.50075389]),\n",
       " array([0.51023139, 0.48976861]),\n",
       " array([0.50350719, 0.49649281]),\n",
       " array([0.49685157, 0.50314843]),\n",
       " array([0.5046764, 0.4953236]),\n",
       " array([0.50906026, 0.49093974]),\n",
       " array([0.49657168, 0.50342832]),\n",
       " array([0.51248185, 0.48751815]),\n",
       " array([0.50852769, 0.49147231]),\n",
       " array([0.51123821, 0.48876179]),\n",
       " array([0.50204709, 0.49795291]),\n",
       " array([0.48996157, 0.51003843]),\n",
       " array([0.50710884, 0.49289116]),\n",
       " array([0.51134619, 0.48865381]),\n",
       " array([0.50898484, 0.49101516]),\n",
       " array([0.4988962, 0.5011038]),\n",
       " array([0.5045943, 0.4954057]),\n",
       " array([0.51191301, 0.48808699]),\n",
       " array([0.50625441, 0.49374559]),\n",
       " array([0.51329988, 0.48670012]),\n",
       " array([0.5000149, 0.4999851]),\n",
       " array([0.50491533, 0.49508467]),\n",
       " array([0.49966585, 0.50033415]),\n",
       " array([0.51203468, 0.48796532]),\n",
       " array([0.49899697, 0.50100303]),\n",
       " array([0.50272096, 0.49727904]),\n",
       " array([0.50043421, 0.49956579]),\n",
       " array([0.50296848, 0.49703152]),\n",
       " array([0.50475995, 0.49524005]),\n",
       " array([0.50593464, 0.49406536]),\n",
       " array([0.50796771, 0.49203229]),\n",
       " array([0.51002162, 0.48997838]),\n",
       " array([0.50437549, 0.49562451]),\n",
       " array([0.50648884, 0.49351116]),\n",
       " array([0.50340791, 0.49659209]),\n",
       " array([0.50865325, 0.49134675]),\n",
       " array([0.49984278, 0.50015722]),\n",
       " array([0.50104733, 0.49895267]),\n",
       " array([0.51131023, 0.48868977]),\n",
       " array([0.50819488, 0.49180512]),\n",
       " array([0.50374649, 0.49625351]),\n",
       " array([0.49709637, 0.50290363]),\n",
       " array([0.51235527, 0.48764473]),\n",
       " array([0.51535828, 0.48464172]),\n",
       " array([0.50495911, 0.49504089]),\n",
       " array([0.50665304, 0.49334696]),\n",
       " array([0.50421063, 0.49578937]),\n",
       " array([0.49357189, 0.50642811]),\n",
       " array([0.49748896, 0.50251104]),\n",
       " array([0.50773292, 0.49226708]),\n",
       " array([0.50398245, 0.49601755]),\n",
       " array([0.50176546, 0.49823454]),\n",
       " array([0.5018554, 0.4981446]),\n",
       " array([0.4997428, 0.5002572]),\n",
       " array([0.49873145, 0.50126855]),\n",
       " array([0.5092622, 0.4907378]),\n",
       " array([0.50593552, 0.49406448]),\n",
       " array([0.50474666, 0.49525334]),\n",
       " array([0.50279925, 0.49720075]),\n",
       " array([0.50580166, 0.49419834]),\n",
       " array([0.44050931, 0.55949069]),\n",
       " array([0.50447342, 0.49552658]),\n",
       " array([0.50421599, 0.49578401]),\n",
       " array([0.51011878, 0.48988122]),\n",
       " array([0.50822306, 0.49177694]),\n",
       " array([0.50359424, 0.49640576]),\n",
       " array([0.49861327, 0.50138673]),\n",
       " array([0.49826357, 0.50173643]),\n",
       " array([0.50519582, 0.49480418]),\n",
       " array([0.49975255, 0.50024745]),\n",
       " array([0.44323392, 0.55676608]),\n",
       " array([0.50923563, 0.49076437]),\n",
       " array([0.5068943, 0.4931057]),\n",
       " array([0.5040858, 0.4959142]),\n",
       " array([0.50650923, 0.49349077]),\n",
       " array([0.50379465, 0.49620535]),\n",
       " array([0.50022905, 0.49977095]),\n",
       " array([0.49864055, 0.50135945]),\n",
       " array([0.50339809, 0.49660191]),\n",
       " array([0.49507979, 0.50492021]),\n",
       " array([0.50293823, 0.49706177]),\n",
       " array([0.50305842, 0.49694158]),\n",
       " array([0.50280024, 0.49719976]),\n",
       " array([0.50606096, 0.49393904]),\n",
       " array([0.50463841, 0.49536159]),\n",
       " array([0.5084285, 0.4915715]),\n",
       " array([0.49682663, 0.50317337]),\n",
       " array([0.49626267, 0.50373733]),\n",
       " array([0.50070706, 0.49929294]),\n",
       " array([0.50060794, 0.49939206]),\n",
       " array([0.50422423, 0.49577577]),\n",
       " array([0.50226034, 0.49773966]),\n",
       " array([0.50335842, 0.49664158]),\n",
       " array([0.5033661, 0.4966339]),\n",
       " array([0.49296019, 0.50703981]),\n",
       " array([0.50944405, 0.49055595]),\n",
       " array([0.50964924, 0.49035076]),\n",
       " array([0.50325398, 0.49674602]),\n",
       " array([0.50471984, 0.49528016]),\n",
       " array([0.50589338, 0.49410662]),\n",
       " array([0.49972152, 0.50027848]),\n",
       " array([0.50692529, 0.49307471]),\n",
       " array([0.51431873, 0.48568127]),\n",
       " array([0.50371424, 0.49628576]),\n",
       " array([0.50418442, 0.49581558]),\n",
       " array([0.50142474, 0.49857526]),\n",
       " array([0.5068428, 0.4931572]),\n",
       " array([0.50457949, 0.49542051]),\n",
       " array([0.50896235, 0.49103765]),\n",
       " array([0.50398245, 0.49601755]),\n",
       " array([0.505832, 0.494168]),\n",
       " array([0.5027, 0.4973]),\n",
       " array([0.50421829, 0.49578171]),\n",
       " array([0.50678534, 0.49321466]),\n",
       " array([0.50377652, 0.49622348]),\n",
       " array([0.50425474, 0.49574526]),\n",
       " array([0.50418338, 0.49581662]),\n",
       " array([0.50304663, 0.49695337]),\n",
       " array([0.50252857, 0.49747143]),\n",
       " array([0.50149371, 0.49850629]),\n",
       " array([0.5057182, 0.4942818]),\n",
       " array([0.50519, 0.49481]),\n",
       " array([0.50270121, 0.49729879]),\n",
       " array([0.50323734, 0.49676266]),\n",
       " array([0.50443414, 0.49556586]),\n",
       " array([0.50099137, 0.49900863]),\n",
       " array([0.50092321, 0.49907679]),\n",
       " array([0.49831506, 0.50168494]),\n",
       " array([0.50319927, 0.49680073]),\n",
       " array([0.50689354, 0.49310646]),\n",
       " array([0.50552253, 0.49447747]),\n",
       " array([0.50570345, 0.49429655]),\n",
       " array([0.51078503, 0.48921497]),\n",
       " array([0.50996669, 0.49003331]),\n",
       " array([0.51034683, 0.48965317]),\n",
       " array([0.50950793, 0.49049207]),\n",
       " array([0.50716029, 0.49283971]),\n",
       " array([0.50262037, 0.49737963]),\n",
       " array([0.51595222, 0.48404778]),\n",
       " array([0.50940715, 0.49059285]),\n",
       " array([0.50748324, 0.49251676]),\n",
       " array([0.51471724, 0.48528276]),\n",
       " array([0.50145179, 0.49854821]),\n",
       " array([0.49887491, 0.50112509]),\n",
       " array([0.50003369, 0.49996631]),\n",
       " array([0.50465695, 0.49534305]),\n",
       " array([0.50661469, 0.49338531]),\n",
       " array([0.50835815, 0.49164185]),\n",
       " array([0.50584434, 0.49415566]),\n",
       " array([0.49893191, 0.50106809]),\n",
       " array([0.50345553, 0.49654447]),\n",
       " array([0.5072279, 0.4927721]),\n",
       " array([0.50073654, 0.49926346]),\n",
       " array([0.49804074, 0.50195926]),\n",
       " array([0.49710956, 0.50289044]),\n",
       " array([0.50273157, 0.49726843]),\n",
       " array([0.50197764, 0.49802236]),\n",
       " array([0.50589689, 0.49410311]),\n",
       " array([0.50745076, 0.49254924]),\n",
       " array([0.50796125, 0.49203875]),\n",
       " array([0.50670065, 0.49329935]),\n",
       " array([0.50589351, 0.49410649]),\n",
       " array([0.50347822, 0.49652178]),\n",
       " array([0.50380021, 0.49619979]),\n",
       " array([0.50522574, 0.49477426]),\n",
       " array([0.50168608, 0.49831392]),\n",
       " array([0.50642556, 0.49357444]),\n",
       " array([0.50052608, 0.49947392]),\n",
       " array([0.50607148, 0.49392852]),\n",
       " array([0.50526629, 0.49473371]),\n",
       " array([0.504109, 0.495891]),\n",
       " array([0.50270725, 0.49729275]),\n",
       " array([0.50435729, 0.49564271]),\n",
       " array([0.49853263, 0.50146737]),\n",
       " array([0.50570568, 0.49429432]),\n",
       " array([0.49714433, 0.50285567]),\n",
       " array([0.50568661, 0.49431339]),\n",
       " array([0.5050448, 0.4949552]),\n",
       " array([0.49541011, 0.50458989]),\n",
       " array([0.50519875, 0.49480125]),\n",
       " array([0.50533001, 0.49466999]),\n",
       " array([0.50201451, 0.49798549]),\n",
       " array([0.50394026, 0.49605974]),\n",
       " array([0.50058307, 0.49941693]),\n",
       " array([0.50805666, 0.49194334]),\n",
       " array([0.5121688, 0.4878312]),\n",
       " array([0.51571994, 0.48428006]),\n",
       " array([0.49934645, 0.50065355]),\n",
       " array([0.50752819, 0.49247181]),\n",
       " array([0.50641303, 0.49358697]),\n",
       " array([0.50192848, 0.49807152]),\n",
       " array([0.50588096, 0.49411904]),\n",
       " array([0.50268666, 0.49731334]),\n",
       " array([0.50875386, 0.49124614]),\n",
       " array([0.50854922, 0.49145078]),\n",
       " array([0.51106992, 0.48893008]),\n",
       " array([0.49851398, 0.50148602]),\n",
       " array([0.49749834, 0.50250166]),\n",
       " array([0.50755497, 0.49244503]),\n",
       " array([0.50463833, 0.49536167]),\n",
       " array([0.50376714, 0.49623286]),\n",
       " array([0.50111498, 0.49888502]),\n",
       " array([0.50625948, 0.49374052]),\n",
       " array([0.50737689, 0.49262311]),\n",
       " array([0.50471026, 0.49528974]),\n",
       " array([0.50592032, 0.49407968]),\n",
       " array([0.50874551, 0.49125449]),\n",
       " array([0.50469796, 0.49530204]),\n",
       " array([0.50666294, 0.49333706]),\n",
       " array([0.50864066, 0.49135934]),\n",
       " array([0.51306738, 0.48693262]),\n",
       " array([0.50690226, 0.49309774]),\n",
       " array([0.51161712, 0.48838288]),\n",
       " array([0.50476454, 0.49523546]),\n",
       " array([0.50078341, 0.49921659]),\n",
       " array([0.50167294, 0.49832706]),\n",
       " array([0.49920848, 0.50079152]),\n",
       " array([0.50538794, 0.49461206]),\n",
       " array([0.50380694, 0.49619306]),\n",
       " array([0.49318885, 0.50681115]),\n",
       " array([0.50793557, 0.49206443]),\n",
       " array([0.50387646, 0.49612354]),\n",
       " array([0.50674827, 0.49325173]),\n",
       " array([0.50286619, 0.49713381]),\n",
       " array([0.50353633, 0.49646367]),\n",
       " array([0.49799594, 0.50200406]),\n",
       " array([0.49915117, 0.50084883]),\n",
       " array([0.50579035, 0.49420965]),\n",
       " array([0.50773488, 0.49226512]),\n",
       " array([0.50344129, 0.49655871]),\n",
       " array([0.50534814, 0.49465186]),\n",
       " array([0.50769475, 0.49230525]),\n",
       " array([0.50468651, 0.49531349]),\n",
       " array([0.50476556, 0.49523444]),\n",
       " array([0.50045623, 0.49954377]),\n",
       " array([0.50498866, 0.49501134]),\n",
       " array([0.4973927, 0.5026073]),\n",
       " array([0.50565112, 0.49434888]),\n",
       " array([0.50775693, 0.49224307]),\n",
       " array([0.50450003, 0.49549997]),\n",
       " array([0.50057563, 0.49942437]),\n",
       " array([0.50280221, 0.49719779]),\n",
       " array([0.50620373, 0.49379627]),\n",
       " array([0.50444679, 0.49555321]),\n",
       " array([0.50493282, 0.49506718]),\n",
       " array([0.50849644, 0.49150356]),\n",
       " array([0.49920578, 0.50079422]),\n",
       " array([0.50084014, 0.49915986]),\n",
       " array([0.50353849, 0.49646151]),\n",
       " array([0.50605211, 0.49394789]),\n",
       " array([0.43905465, 0.56094535]),\n",
       " array([0.51060566, 0.48939434]),\n",
       " array([0.50192261, 0.49807739]),\n",
       " array([0.49839211, 0.50160789]),\n",
       " array([0.50570956, 0.49429044]),\n",
       " array([0.50072327, 0.49927673]),\n",
       " array([0.49741989, 0.50258011]),\n",
       " array([0.5007301, 0.4992699]),\n",
       " array([0.50796101, 0.49203899]),\n",
       " array([0.50131247, 0.49868753]),\n",
       " array([0.50032549, 0.49967451]),\n",
       " array([0.51000654, 0.48999346]),\n",
       " array([0.50246399, 0.49753601]),\n",
       " array([0.50663114, 0.49336886]),\n",
       " array([0.50294382, 0.49705618]),\n",
       " array([0.4980063, 0.5019937]),\n",
       " array([0.50867218, 0.49132782]),\n",
       " array([0.49294208, 0.50705792]),\n",
       " array([0.49949286, 0.50050714]),\n",
       " array([0.49379012, 0.50620988]),\n",
       " array([0.50823165, 0.49176835]),\n",
       " array([0.50990564, 0.49009436]),\n",
       " array([0.50643454, 0.49356546]),\n",
       " array([0.4963388, 0.5036612]),\n",
       " array([0.50116853, 0.49883147]),\n",
       " array([0.49994348, 0.50005652]),\n",
       " array([0.5007961, 0.4992039]),\n",
       " array([0.5026705, 0.4973295]),\n",
       " array([0.5063631, 0.4936369]),\n",
       " array([0.50885143, 0.49114857]),\n",
       " array([0.50378275, 0.49621725]),\n",
       " array([0.51164989, 0.48835011]),\n",
       " array([0.50189087, 0.49810913]),\n",
       " array([0.5096592, 0.4903408]),\n",
       " array([0.50445938, 0.49554062]),\n",
       " array([0.50250613, 0.49749387]),\n",
       " array([0.5024079, 0.4975921]),\n",
       " array([0.50731886, 0.49268114]),\n",
       " array([0.50028157, 0.49971843]),\n",
       " array([0.49943545, 0.50056455]),\n",
       " array([0.50182065, 0.49817935]),\n",
       " array([0.50290197, 0.49709803]),\n",
       " array([0.50404353, 0.49595647]),\n",
       " array([0.50556318, 0.49443682]),\n",
       " array([0.50223218, 0.49776782]),\n",
       " array([0.50236688, 0.49763312]),\n",
       " array([0.50394793, 0.49605207]),\n",
       " array([0.50809808, 0.49190192]),\n",
       " array([0.50545646, 0.49454354]),\n",
       " array([0.50052268, 0.49947732]),\n",
       " array([0.50298364, 0.49701636]),\n",
       " array([0.50968223, 0.49031777]),\n",
       " array([0.50275193, 0.49724807]),\n",
       " array([0.49980922, 0.50019078]),\n",
       " array([0.50920539, 0.49079461]),\n",
       " array([0.50106465, 0.49893535]),\n",
       " array([0.51185085, 0.48814915]),\n",
       " array([0.50752009, 0.49247991]),\n",
       " array([0.50416987, 0.49583013]),\n",
       " array([0.50057204, 0.49942796]),\n",
       " array([0.50967601, 0.49032399]),\n",
       " array([0.50096605, 0.49903395]),\n",
       " array([0.50857881, 0.49142119]),\n",
       " array([0.49904345, 0.50095655]),\n",
       " array([0.50671062, 0.49328938]),\n",
       " array([0.50747831, 0.49252169]),\n",
       " array([0.50590358, 0.49409642]),\n",
       " array([0.50229511, 0.49770489]),\n",
       " array([0.50671471, 0.49328529]),\n",
       " array([0.5062022, 0.4937978]),\n",
       " array([0.50734926, 0.49265074]),\n",
       " array([0.50980698, 0.49019302]),\n",
       " array([0.50217715, 0.49782285]),\n",
       " array([0.51068966, 0.48931034]),\n",
       " array([0.5036425, 0.4963575]),\n",
       " array([0.50218007, 0.49781993]),\n",
       " array([0.50413417, 0.49586583]),\n",
       " array([0.50089897, 0.49910103]),\n",
       " array([0.5101054, 0.4898946]),\n",
       " array([0.50709578, 0.49290422]),\n",
       " array([0.50828572, 0.49171428]),\n",
       " array([0.50848274, 0.49151726]),\n",
       " array([0.49847374, 0.50152626]),\n",
       " array([0.50700347, 0.49299653]),\n",
       " array([0.50415763, 0.49584237]),\n",
       " array([0.49961605, 0.50038395]),\n",
       " array([0.50877498, 0.49122502]),\n",
       " array([0.50696125, 0.49303875]),\n",
       " array([0.50335106, 0.49664894]),\n",
       " array([0.4863192, 0.5136808]),\n",
       " array([0.5029428, 0.4970572]),\n",
       " array([0.50669566, 0.49330434]),\n",
       " array([0.507004, 0.492996]),\n",
       " array([0.50223435, 0.49776565]),\n",
       " array([0.50690552, 0.49309448]),\n",
       " array([0.49968856, 0.50031144]),\n",
       " array([0.48412865, 0.51587135]),\n",
       " array([0.48067365, 0.51932635]),\n",
       " array([0.50076934, 0.49923066]),\n",
       " array([0.51015632, 0.48984368]),\n",
       " array([0.50082612, 0.49917388]),\n",
       " array([0.5042513, 0.4957487]),\n",
       " array([0.50164657, 0.49835343]),\n",
       " array([0.50388555, 0.49611445]),\n",
       " array([0.50304374, 0.49695626]),\n",
       " array([0.50494398, 0.49505602]),\n",
       " array([0.51189666, 0.48810334]),\n",
       " array([0.50818116, 0.49181884]),\n",
       " array([0.50272441, 0.49727559]),\n",
       " array([0.49884991, 0.50115009]),\n",
       " array([0.43981223, 0.56018777]),\n",
       " array([0.50329224, 0.49670776]),\n",
       " array([0.4978717, 0.5021283]),\n",
       " array([0.51422471, 0.48577529]),\n",
       " array([0.51340033, 0.48659967]),\n",
       " array([0.50668721, 0.49331279]),\n",
       " array([0.50042439, 0.49957561]),\n",
       " array([0.50305305, 0.49694695]),\n",
       " ...]"
      ]
     },
     "execution_count": 346,
     "metadata": {},
     "output_type": "execute_result"
    }
   ],
   "source": [
    "predicted_wage"
   ]
  },
  {
   "cell_type": "code",
   "execution_count": 363,
   "metadata": {},
   "outputs": [],
   "source": [
    "predictions=[]"
   ]
  },
  {
   "cell_type": "code",
   "execution_count": 364,
   "metadata": {},
   "outputs": [],
   "source": [
    "for prediction in predicted_wage:\n",
    "    predictions.append(prediction[1])"
   ]
  },
  {
   "cell_type": "code",
   "execution_count": 365,
   "metadata": {},
   "outputs": [
    {
     "data": {
      "text/plain": [
       "[0.49080310176264075,\n",
       " 0.4968073099039273,\n",
       " 0.4974317057407384,\n",
       " 0.5015869528856474,\n",
       " 0.4890641258268971,\n",
       " 0.4901268372285499,\n",
       " 0.4927118421011502,\n",
       " 0.503590539450433,\n",
       " 0.4904805429532325,\n",
       " 0.49033004546387626,\n",
       " 0.5020087903444629,\n",
       " 0.4993317772110662,\n",
       " 0.490390316679636,\n",
       " 0.4971750298185381,\n",
       " 0.4993034551148693,\n",
       " 0.5013366918956169,\n",
       " 0.49079547729307754,\n",
       " 0.49203622696523197,\n",
       " 0.4872544618828792,\n",
       " 0.5020406083954196,\n",
       " 0.49919654750843456,\n",
       " 0.4910717481276131,\n",
       " 0.4905461102819028,\n",
       " 0.4961107478040055,\n",
       " 0.4977016368924883,\n",
       " 0.5055395129821785,\n",
       " 0.49022461122008637,\n",
       " 0.49268208292372095,\n",
       " 0.49682054086034133,\n",
       " 0.4959063734451231,\n",
       " 0.5012158096640965,\n",
       " 0.4901734764382981,\n",
       " 0.4965222448789392,\n",
       " 0.49534704420029274,\n",
       " 0.4931852708272631,\n",
       " 0.4983399874149331,\n",
       " 0.49900986281676823,\n",
       " 0.48831744617926226,\n",
       " 0.48957221950996516,\n",
       " 0.49203179589503027,\n",
       " 0.5032762285069806,\n",
       " 0.4981955889246374,\n",
       " 0.4956019980720664,\n",
       " 0.49326901182779853,\n",
       " 0.4915688786701553,\n",
       " 0.49267409196851814,\n",
       " 0.49174001593600636,\n",
       " 0.5012027567196123,\n",
       " 0.4881000354014607,\n",
       " 0.4924987874976462,\n",
       " 0.49051523119774315,\n",
       " 0.4969953587236519,\n",
       " 0.491653240553652,\n",
       " 0.5026641802932414,\n",
       " 0.4928844983618256,\n",
       " 0.49050513068025137,\n",
       " 0.49817291790177687,\n",
       " 0.5017658723714808,\n",
       " 0.5000730535563827,\n",
       " 0.4953005190619886,\n",
       " 0.4950552211792606,\n",
       " 0.49800774261092845,\n",
       " 0.4944705721960908,\n",
       " 0.49069939242664573,\n",
       " 0.4959810971047584,\n",
       " 0.4949867078102203,\n",
       " 0.5091630375593175,\n",
       " 0.4906089129108147,\n",
       " 0.4937593827640387,\n",
       " 0.4969297796565857,\n",
       " 0.5074507268775552,\n",
       " 0.4979923749345456,\n",
       " 0.49485506980760574,\n",
       " 0.48991885221992587,\n",
       " 0.4970334534985293,\n",
       " 0.48922555416771946,\n",
       " 0.4970477288093017,\n",
       " 0.49739535700212484,\n",
       " 0.4967307147355434,\n",
       " 0.49073779628800074,\n",
       " 0.4980919757164914,\n",
       " 0.4958508612391999,\n",
       " 0.49581034500062393,\n",
       " 0.5551617317112626,\n",
       " 0.4967227492416402,\n",
       " 0.4915587433504474,\n",
       " 0.48520998969222007,\n",
       " 0.4988686855732256,\n",
       " 0.4939772551173524,\n",
       " 0.49813746613645943,\n",
       " 0.49522806371751266,\n",
       " 0.4893148199038123,\n",
       " 0.4959291107665048,\n",
       " 0.5029463039650519,\n",
       " 0.4976083146124165,\n",
       " 0.49197073554136256,\n",
       " 0.4932424816613241,\n",
       " 0.494396119019189,\n",
       " 0.4975741231133896,\n",
       " 0.48992999960045397,\n",
       " 0.4921892386429282,\n",
       " 0.49095734931017915,\n",
       " 0.49270142832797553,\n",
       " 0.4882173674791353,\n",
       " 0.4898726999197043,\n",
       " 0.4880727213540928,\n",
       " 0.4962257545570929,\n",
       " 0.49406645229539214,\n",
       " 0.49024258395522946,\n",
       " 0.4883792479715469,\n",
       " 0.49010824509380296,\n",
       " 0.495701085946309,\n",
       " 0.4965824885534338,\n",
       " 0.4873450298076196,\n",
       " 0.49676453043525315,\n",
       " 0.4923696969836694,\n",
       " 0.49657980635021115,\n",
       " 0.4868254022329872,\n",
       " 0.49249984152210285,\n",
       " 0.4978475450889262,\n",
       " 0.49907694691436744,\n",
       " 0.48847401330254503,\n",
       " 0.49156548424551366,\n",
       " 0.49570524582072034,\n",
       " 0.4945500738869508,\n",
       " 0.496238511633593,\n",
       " 0.49941160708461385,\n",
       " 0.49263886333368,\n",
       " 0.4963583903969812,\n",
       " 0.5051240269729964,\n",
       " 0.49696003114434534,\n",
       " 0.4897745128624377,\n",
       " 0.48992999960045397,\n",
       " 0.5016821755839227,\n",
       " 0.4984249856841979,\n",
       " 0.4931072941320098,\n",
       " 0.497495298285187,\n",
       " 0.49273947966528736,\n",
       " 0.49148604926639644,\n",
       " 0.4919599847291458,\n",
       " 0.500477736617277,\n",
       " 0.48809372900943665,\n",
       " 0.501991991857189,\n",
       " 0.4998498689394515,\n",
       " 0.49375382631910303,\n",
       " 0.4894817500296325,\n",
       " 0.49060403752421783,\n",
       " 0.49517837816734595,\n",
       " 0.5103830580134829,\n",
       " 0.4927526338090906,\n",
       " 0.49116785471513835,\n",
       " 0.4889827772486073,\n",
       " 0.490797820264407,\n",
       " 0.49044028749807733,\n",
       " 0.5025847974161191,\n",
       " 0.49087986118197824,\n",
       " 0.4931976688554731,\n",
       " 0.49406753251878516,\n",
       " 0.4932677129714239,\n",
       " 0.500362495486649,\n",
       " 0.49468744614584315,\n",
       " 0.4950846719487358,\n",
       " 0.4948397495645418,\n",
       " 0.4959238150318771,\n",
       " 0.5006928021040357,\n",
       " 0.49596185446412905,\n",
       " 0.5004980569384048,\n",
       " 0.4967139157325247,\n",
       " 0.4900937527370568,\n",
       " 0.49870790084416045,\n",
       " 0.5003882945384373,\n",
       " 0.4975675982371727,\n",
       " 0.4937236535589258,\n",
       " 0.4991929260444462,\n",
       " 0.49556977916401757,\n",
       " 0.49693935624059826,\n",
       " 0.4965618138519592,\n",
       " 0.496438801334879,\n",
       " 0.49605757472818646,\n",
       " 0.49966431276352963,\n",
       " 0.5000656703405868,\n",
       " 0.5068968929024024,\n",
       " 0.4917713938006156,\n",
       " 0.4945979065657483,\n",
       " 0.4947090488861499,\n",
       " 0.4955196650200011,\n",
       " 0.4992364881397007,\n",
       " 0.49357559973550424,\n",
       " 0.49725641158324885,\n",
       " 0.49048368246427493,\n",
       " 0.5019275020795355,\n",
       " 0.49743485727183373,\n",
       " 0.49620642205101395,\n",
       " 0.4921431475301362,\n",
       " 0.4913457983621073,\n",
       " 0.49446174971482126,\n",
       " 0.4956999817758249,\n",
       " 0.4985044240810507,\n",
       " 0.4897142219776555,\n",
       " 0.4947382842917287,\n",
       " 0.49797094392410224,\n",
       " 0.49898418370432196,\n",
       " 0.5028110747342551,\n",
       " 0.4983530599549475,\n",
       " 0.49842830572154406,\n",
       " 0.49979078431483875,\n",
       " 0.49244611830112894,\n",
       " 0.49733119884668103,\n",
       " 0.4962772571652522,\n",
       " 0.49732585035986526,\n",
       " 0.4876167112079337,\n",
       " 0.49175503800235476,\n",
       " 0.5001378560764996,\n",
       " 0.4989321991357273,\n",
       " 0.4920577187913464,\n",
       " 0.4967795082064424,\n",
       " 0.4930762301696027,\n",
       " 0.48701338238838743,\n",
       " 0.4941937361643098,\n",
       " 0.493890382509658,\n",
       " 0.49862860369501216,\n",
       " 0.49017664116463383,\n",
       " 0.4936488185254518,\n",
       " 0.4968201712070899,\n",
       " 0.4994619150528296,\n",
       " 0.49691931534690414,\n",
       " 0.5081966866200124,\n",
       " 0.49749279575981875,\n",
       " 0.48682730903248045,\n",
       " 0.499600816402783,\n",
       " 0.49091444036296106,\n",
       " 0.5015540614657213,\n",
       " 0.497694206805242,\n",
       " 0.49525172789144883,\n",
       " 0.49836895267676823,\n",
       " 0.49740346610309255,\n",
       " 0.5006599191333728,\n",
       " 0.4898721840591941,\n",
       " 0.49107602971926906,\n",
       " 0.4949502528723753,\n",
       " 0.4896980970197298,\n",
       " 0.5026714318102735,\n",
       " 0.4873264987946448,\n",
       " 0.4975716313570011,\n",
       " 0.4889796479702912,\n",
       " 0.49369693024915806,\n",
       " 0.49548793336353975,\n",
       " 0.49175104438370143,\n",
       " 0.4995033779769861,\n",
       " 0.49589491837725413,\n",
       " 0.49020608098715956,\n",
       " 0.49639752214782445,\n",
       " 0.49760792385067143,\n",
       " 0.49792527492288186,\n",
       " 0.49682764518993694,\n",
       " 0.4925063171955287,\n",
       " 0.5032612384871171,\n",
       " 0.4915675136950781,\n",
       " 0.4927773819849485,\n",
       " 0.5020478881190288,\n",
       " 0.4954746089438417,\n",
       " 0.4972826898536359,\n",
       " 0.49139779347697354,\n",
       " 0.4933972451184506,\n",
       " 0.4945642760318669,\n",
       " 0.49753698382463174,\n",
       " 0.49798549046234586,\n",
       " 0.49103633257586643,\n",
       " 0.48926374268974576,\n",
       " 0.4880551506481057,\n",
       " 0.4981542163581315,\n",
       " 0.4950562534553444,\n",
       " 0.49576864618006133,\n",
       " 0.4981946677621788,\n",
       " 0.4966250408510269,\n",
       " 0.4888588180012502,\n",
       " 0.49878375753843396,\n",
       " 0.4885397021650941,\n",
       " 0.5105458033305088,\n",
       " 0.4950388795615786,\n",
       " 0.49596503646979173,\n",
       " 0.49500324158659864,\n",
       " 0.48858304709170014,\n",
       " 0.49427854499394314,\n",
       " 0.4999375517031441,\n",
       " 0.49339734698794296,\n",
       " 0.4921377648938716,\n",
       " 0.4972250110829376,\n",
       " 0.4989856965691983,\n",
       " 0.49327478181946216,\n",
       " 0.4977114773991612,\n",
       " 0.4956876440826492,\n",
       " 0.4953304576160784,\n",
       " 0.49232167349045575,\n",
       " 0.49513076512419435,\n",
       " 0.4949526675198452,\n",
       " 0.4906005875503758,\n",
       " 0.4921296886900957,\n",
       " 0.513173123086783,\n",
       " 0.4989765164987758,\n",
       " 0.49673189269618995,\n",
       " 0.4941041658116853,\n",
       " 0.49525253193448154,\n",
       " 0.49334847252685615,\n",
       " 0.49033626371122774,\n",
       " 0.49682834879458027,\n",
       " 0.492443392065074,\n",
       " 0.49567920204182714,\n",
       " 0.5013141423949872,\n",
       " 0.5028811021199235,\n",
       " 0.5005239643758559,\n",
       " 0.49296603841139486,\n",
       " 0.49966795387572716,\n",
       " 0.5014805395416368,\n",
       " 0.4940632135083444,\n",
       " 0.49951913174678714,\n",
       " 0.49308468905277336,\n",
       " 0.488893975766125,\n",
       " 0.4989483554696237,\n",
       " 0.49856005462385566,\n",
       " 0.49643499437694016,\n",
       " 0.5005902532797138,\n",
       " 0.4957364204124098,\n",
       " 0.4912608184361693,\n",
       " 0.4916554819101637,\n",
       " 0.5002773920446697,\n",
       " 0.4993647435502707,\n",
       " 0.4875833741611575,\n",
       " 0.4988245200579543,\n",
       " 0.513249654155161,\n",
       " 0.48974814871496186,\n",
       " 0.4932875232621145,\n",
       " 0.4976106373346049,\n",
       " 0.49699046612968123,\n",
       " 0.5036945233169801,\n",
       " 0.4891229997407055,\n",
       " 0.49273089701383377,\n",
       " 0.48862549791958504,\n",
       " 0.4995350040806459,\n",
       " 0.49929333840159124,\n",
       " 0.494762842500823,\n",
       " 0.4980717308024537,\n",
       " 0.49008095290939463,\n",
       " 0.5003307068177462,\n",
       " 0.5045967867822349,\n",
       " 0.4946519666472142,\n",
       " 0.5523264389329781,\n",
       " 0.4977847764274359,\n",
       " 0.4900232794889431,\n",
       " 0.4977596591559217,\n",
       " 0.4900168147155196,\n",
       " 0.4912341371614667,\n",
       " 0.4944606771482048,\n",
       " 0.4900267157439951,\n",
       " 0.49952278372554176,\n",
       " 0.4998441536158522,\n",
       " 0.4971340549611627,\n",
       " 0.5632303787495372,\n",
       " 0.49615972995377927,\n",
       " 0.4942405519556803,\n",
       " 0.4941203903458734,\n",
       " 0.5006954384119722,\n",
       " 0.4981266058797417,\n",
       " 0.4930927932433154,\n",
       " 0.4984411456498867,\n",
       " 0.4993390758851056,\n",
       " 0.4999773335988458,\n",
       " 0.498869439396825,\n",
       " 0.4924393768263985,\n",
       " 0.49038125135851457,\n",
       " 0.4978994535476296,\n",
       " 0.48933156498010677,\n",
       " 0.4945182403688977,\n",
       " 0.4998524416584504,\n",
       " 0.4935750874990009,\n",
       " 0.49599718923622466,\n",
       " 0.4972163056116525,\n",
       " 0.4898730405237464,\n",
       " 0.4967625566406432,\n",
       " 0.4899319797528806,\n",
       " 0.4960009596303443,\n",
       " 0.4967237571594348,\n",
       " 0.5025989772369092,\n",
       " 0.4903077204284761,\n",
       " 0.49915236881638075,\n",
       " 0.49407019398093743,\n",
       " 0.49509614392691415,\n",
       " 0.4880769637133903,\n",
       " 0.49455693241658105,\n",
       " 0.5017214784670797,\n",
       " 0.4998886691070337,\n",
       " 0.4928385318767041,\n",
       " 0.4977052695304903,\n",
       " 0.4897745128624377,\n",
       " 0.49351624916501413,\n",
       " 0.4947677650882092,\n",
       " 0.5000409100205092,\n",
       " 0.49550600152916147,\n",
       " 0.49995019277745684,\n",
       " 0.4996980747863071,\n",
       " 0.4949052814850666,\n",
       " 0.4904729396504349,\n",
       " 0.4859576530184625,\n",
       " 0.4942904402476578,\n",
       " 0.4987620547275458,\n",
       " 0.49474002405807466,\n",
       " 0.49760291991358546,\n",
       " 0.4928389295086483,\n",
       " 0.4910998590424884,\n",
       " 0.49400566168103405,\n",
       " 0.4923028236039645,\n",
       " 0.49211700729640945,\n",
       " 0.495543428746485,\n",
       " 0.49293316324559244,\n",
       " 0.4940936615529102,\n",
       " 0.49430661759488703,\n",
       " 0.49400157149648366,\n",
       " 0.4952497102507359,\n",
       " 0.5597259299832648,\n",
       " 0.49842982183188644,\n",
       " 0.49264310283024193,\n",
       " 0.49435114745467845,\n",
       " 0.4932678471798739,\n",
       " 0.49629065569205627,\n",
       " 0.49087352582300076,\n",
       " 0.49336810450170027,\n",
       " 0.49668575503326795,\n",
       " 0.49109142150598056,\n",
       " 0.4908837607364715,\n",
       " 0.49004125008012017,\n",
       " 0.4989219455907027,\n",
       " 0.4899884779782602,\n",
       " 0.49283122910104765,\n",
       " 0.49012575084306903,\n",
       " 0.48828280121142464,\n",
       " 0.5016997971998158,\n",
       " 0.5000270645516942,\n",
       " 0.4899083842406772,\n",
       " 0.4982242153501493,\n",
       " 0.5026053227885499,\n",
       " 0.49680789944028914,\n",
       " 0.49756720747573463,\n",
       " 0.49307964284171923,\n",
       " 0.4978493607314814,\n",
       " 0.48796532005135645,\n",
       " 0.5034333778355865,\n",
       " 0.49980549684243103,\n",
       " 0.4961035533225167,\n",
       " 0.4955854940892383,\n",
       " 0.49456377490722225,\n",
       " 0.4950964669938827,\n",
       " 0.4988566112997196,\n",
       " 0.5006126531584876,\n",
       " 0.49514851167979534,\n",
       " 0.4930592015462477,\n",
       " 0.4936630381465974,\n",
       " 0.4952708848405336,\n",
       " 0.5013710776648918,\n",
       " 0.48946961707352743,\n",
       " 0.4958828760380391,\n",
       " 0.49304959073979476,\n",
       " 0.49557626117429276,\n",
       " 0.5010088167871921,\n",
       " 0.4918715795862333,\n",
       " 0.4959682699627889,\n",
       " 0.4909615581199419,\n",
       " 0.5011096640271111,\n",
       " 0.49687321953443075,\n",
       " 0.496782190423888,\n",
       " 0.49187704488751965,\n",
       " 0.48828280121142464,\n",
       " 0.4967801062752984,\n",
       " 0.4970235225671629,\n",
       " 0.49836361412567387,\n",
       " 0.49484722401344505,\n",
       " 0.4972853401178185,\n",
       " 0.4942576005572046,\n",
       " 0.4935531808751599,\n",
       " 0.4912892281370398,\n",
       " 0.4958483839788714,\n",
       " 0.4946896978675264,\n",
       " 0.4994779974252228,\n",
       " 0.49040959481695434,\n",
       " 0.5184330656178932,\n",
       " 0.4975701958895762,\n",
       " 0.49757031047511235,\n",
       " 0.49180790910765665,\n",
       " 0.4943183857895445,\n",
       " 0.49531349055116847,\n",
       " 0.4949514307632382,\n",
       " 0.49534660567604333,\n",
       " 0.49496353744670646,\n",
       " 0.49559804800202684,\n",
       " 0.4953005190619886,\n",
       " 0.4919948285374881,\n",
       " 0.4978037626155495,\n",
       " 0.49266459670171836,\n",
       " 0.4957789553336248,\n",
       " 0.48842334087698064,\n",
       " 0.5008496890855664,\n",
       " 0.4958922732747479,\n",
       " 0.49662331734529397,\n",
       " 0.49652454487915093,\n",
       " 0.49717151087019823,\n",
       " 0.49768229252253465,\n",
       " 0.4925497295052921,\n",
       " 0.4863642719003843,\n",
       " 0.5080128829845821,\n",
       " 0.49122815434374545,\n",
       " 0.49759246466775875,\n",
       " 0.4926062313198683,\n",
       " 0.4893587029407227,\n",
       " 0.492064788678103,\n",
       " 0.488030556961484,\n",
       " 0.4974366616786855,\n",
       " 0.48996622352240815,\n",
       " 0.4919093135119382,\n",
       " 0.489905399229171,\n",
       " 0.507140337398408,\n",
       " 0.49228615604240933,\n",
       " 0.49422479535940356,\n",
       " 0.49615176839014513,\n",
       " 0.5018143428276123,\n",
       " 0.490136947945985,\n",
       " 0.4993188257051084,\n",
       " 0.49111867991690283,\n",
       " 0.4988546408184003,\n",
       " 0.49433617600103563,\n",
       " 0.4958711039251286,\n",
       " 0.5086276684044521,\n",
       " 0.49860074237540003,\n",
       " 0.4929986499393273,\n",
       " 0.49756681901021527,\n",
       " 0.49480357099812616,\n",
       " 0.49669643008686426,\n",
       " 0.49467472488384195,\n",
       " 0.49420684200495313,\n",
       " 0.5002096769689602,\n",
       " 0.49895400319836636,\n",
       " 0.4880920487939888,\n",
       " 0.4941769642178156,\n",
       " 0.4996567234570519,\n",
       " 0.4979378160576727,\n",
       " 0.4905988123218152,\n",
       " 0.49988584550063375,\n",
       " 0.5010576121048592,\n",
       " 0.49985706809653857,\n",
       " 0.4970633250788806,\n",
       " 0.49654461723072346,\n",
       " 0.49739518494433466,\n",
       " 0.4885193560761612,\n",
       " 0.4928238878687423,\n",
       " 0.5008788421399654,\n",
       " 0.5003065225583766,\n",
       " 0.4979501539891953,\n",
       " 0.4980433677120601,\n",
       " 0.5008128774096243,\n",
       " 0.5001382134006574,\n",
       " 0.5013965894213147,\n",
       " 0.48912201302972375,\n",
       " 0.4907842624404362,\n",
       " 0.4915356639687324,\n",
       " 0.49814698084443604,\n",
       " 0.49575092447917335,\n",
       " 0.49541997003810745,\n",
       " 0.4937636338188779,\n",
       " 0.495666349727396,\n",
       " 0.4931287214315603,\n",
       " 0.5055797132582895,\n",
       " 0.489469245188054,\n",
       " 0.49798277696048304,\n",
       " 0.4944181096039502,\n",
       " 0.4977727601147844,\n",
       " 0.4908375592257599,\n",
       " 0.5005130736394694,\n",
       " 0.49780887632055804,\n",
       " 0.5002627935090481,\n",
       " 0.4969013382974293,\n",
       " 0.5006402886921574,\n",
       " 0.49845074628791414,\n",
       " 0.49424133231037165,\n",
       " 0.4949641246314204,\n",
       " 0.5042947385598103,\n",
       " 0.49132369943820753,\n",
       " 0.49428053320739773,\n",
       " 0.4934419274461532,\n",
       " 0.4936408792221502,\n",
       " 0.5028561428657616,\n",
       " 0.4895790877941202,\n",
       " 0.49581784106295007,\n",
       " 0.488389877347159,\n",
       " 0.4959211398240118,\n",
       " 0.4949225293691055,\n",
       " 0.4880505289450037,\n",
       " 0.5010908850945128,\n",
       " 0.49668575503326795,\n",
       " 0.4889727375758926,\n",
       " 0.49896772596372435,\n",
       " 0.5020812353535155,\n",
       " 0.4924368167580289,\n",
       " 0.49396251272008623,\n",
       " 0.49372712446492373,\n",
       " 0.4965854801426089,\n",
       " 0.5013437417851084,\n",
       " 0.4919231322285081,\n",
       " 0.4906072495539553,\n",
       " 0.4908668047779744,\n",
       " 0.4968428302034582,\n",
       " 0.49514691306132,\n",
       " 0.497126399334701,\n",
       " 0.49736506411867487,\n",
       " 0.5047482155820192,\n",
       " 0.49153285444982137,\n",
       " 0.4932793252741156,\n",
       " 0.49286580770648003,\n",
       " 0.4956984302770124,\n",
       " 0.49105136429705026,\n",
       " 0.4990144443627041,\n",
       " 0.49579751848,\n",
       " 0.5052625356936404,\n",
       " 0.4963531707426703,\n",
       " 0.4917144868927909,\n",
       " 0.4927041494896153,\n",
       " 0.4977012823118073,\n",
       " 0.49509274937256254,\n",
       " 0.5037553047857135,\n",
       " 0.5012817424149896,\n",
       " 0.5031850570344368,\n",
       " 0.4985787134658034,\n",
       " 0.49602982628098946,\n",
       " 0.4993315927583363,\n",
       " 0.4966749737910957,\n",
       " 0.5007538907637293,\n",
       " 0.489768611174737,\n",
       " 0.4964928055408257,\n",
       " 0.5031484288283308,\n",
       " 0.4953236000944228,\n",
       " 0.4909397395577852,\n",
       " 0.5034283220460182,\n",
       " 0.4875181490245858,\n",
       " 0.49147231472265734,\n",
       " 0.48876179016665655,\n",
       " 0.4979529095211094,\n",
       " 0.5100384323236943,\n",
       " 0.4928911569287359,\n",
       " 0.4886538063312343,\n",
       " 0.4910151633307129,\n",
       " 0.5011037995141475,\n",
       " 0.49540570374067106,\n",
       " 0.4880869870590901,\n",
       " 0.4937455851404652,\n",
       " 0.486700124915534,\n",
       " 0.49998509564087706,\n",
       " 0.4950846719487358,\n",
       " 0.5003341533847457,\n",
       " 0.48796532005135645,\n",
       " 0.501003034917772,\n",
       " 0.4972790355570034,\n",
       " 0.49956579446933874,\n",
       " 0.4970315197860485,\n",
       " 0.4952400538533802,\n",
       " 0.49406535566049886,\n",
       " 0.4920322928731071,\n",
       " 0.48997837787605136,\n",
       " 0.495624507091738,\n",
       " 0.49351115680068025,\n",
       " 0.49659208623583767,\n",
       " 0.49134674911271703,\n",
       " 0.5001572217614322,\n",
       " 0.4989526732056837,\n",
       " 0.48868976594037283,\n",
       " 0.4918051192765723,\n",
       " 0.4962535122556328,\n",
       " 0.5029036259933515,\n",
       " 0.487644731738322,\n",
       " 0.4846417175488645,\n",
       " 0.49504088703208066,\n",
       " 0.4933469592365786,\n",
       " 0.4957893723172094,\n",
       " 0.5064281103065439,\n",
       " 0.5025110434066613,\n",
       " 0.4922670779969276,\n",
       " 0.4960175465994793,\n",
       " 0.4982345407958693,\n",
       " 0.49814459862464616,\n",
       " 0.5002572024979811,\n",
       " 0.5012685520499852,\n",
       " 0.49073779628800074,\n",
       " 0.4940644771082924,\n",
       " 0.4952533373767173,\n",
       " 0.49720075232353855,\n",
       " 0.4941983410820602,\n",
       " 0.5594906930886012,\n",
       " 0.49552658365187735,\n",
       " 0.4957840056510796,\n",
       " 0.48988122396283096,\n",
       " 0.491776938834541,\n",
       " 0.49640576314429125,\n",
       " 0.5013867301448873,\n",
       " 0.5017364264427399,\n",
       " 0.49480417571319496,\n",
       " 0.5002474508706324,\n",
       " 0.5567660838656066,\n",
       " 0.49076436662785605,\n",
       " 0.4931056991696141,\n",
       " 0.4959141980212529,\n",
       " 0.4934907711439482,\n",
       " 0.49620535497178386,\n",
       " 0.49977094693229895,\n",
       " 0.5013594473394869,\n",
       " 0.4966019070794779,\n",
       " 0.50492020529306,\n",
       " 0.497061768158607,\n",
       " 0.49694158262214816,\n",
       " 0.49719976427132695,\n",
       " 0.49393903730867283,\n",
       " 0.4953615897205666,\n",
       " 0.49157149601684275,\n",
       " 0.5031733738358731,\n",
       " 0.5037373324369187,\n",
       " 0.49929294256821805,\n",
       " 0.4993920573863689,\n",
       " 0.4957757701724821,\n",
       " 0.4977396613715103,\n",
       " 0.49664158201641,\n",
       " 0.4966339044427472,\n",
       " 0.5070398065011926,\n",
       " 0.4905559518523255,\n",
       " 0.4903507582012689,\n",
       " 0.49674602263669865,\n",
       " 0.49528016220686827,\n",
       " 0.49410661677420076,\n",
       " 0.5002784827889523,\n",
       " 0.4930747107302027,\n",
       " 0.48568126506200715,\n",
       " 0.49628576153299464,\n",
       " 0.4958155830898618,\n",
       " 0.49857525987005546,\n",
       " 0.4931571953799429,\n",
       " 0.4954205135824326,\n",
       " 0.4910376524185231,\n",
       " 0.4960175465994793,\n",
       " 0.49416800132961197,\n",
       " 0.49729999757164856,\n",
       " 0.4957817118935748,\n",
       " 0.4932146588676157,\n",
       " 0.49622347910575854,\n",
       " 0.49574525774656697,\n",
       " 0.4958166214125748,\n",
       " 0.4969533684242613,\n",
       " 0.49747142963805663,\n",
       " 0.49850628601056246,\n",
       " 0.49428180104902664,\n",
       " 0.4948100035766727,\n",
       " 0.49729878956250245,\n",
       " 0.49676265652792606,\n",
       " 0.49556586053983287,\n",
       " 0.4990086294053042,\n",
       " 0.4990767887137695,\n",
       " 0.501684938057663,\n",
       " 0.49680072543116566,\n",
       " 0.49310645542750864,\n",
       " 0.49447747154550653,\n",
       " 0.4942965455834285,\n",
       " 0.48921496604793746,\n",
       " 0.4900333052293391,\n",
       " 0.48965317199380015,\n",
       " 0.49049207464093,\n",
       " 0.4928397096460707,\n",
       " 0.4973796304047833,\n",
       " 0.4840477789524543,\n",
       " 0.49059284520175817,\n",
       " 0.4925167602229116,\n",
       " 0.4852827590235295,\n",
       " 0.4985482084800472,\n",
       " 0.50112508807535,\n",
       " 0.4999663055793533,\n",
       " 0.4953430533215726,\n",
       " 0.49338531499658317,\n",
       " 0.4916418521808245,\n",
       " 0.4941556648716086,\n",
       " 0.5010680896866684,\n",
       " 0.49654447096390747,\n",
       " 0.4927720963280566,\n",
       " 0.49926345733927996,\n",
       " 0.5019592560155215,\n",
       " 0.5028904363008214,\n",
       " 0.49726842502659635,\n",
       " 0.49802236451520715,\n",
       " 0.49410310718104505,\n",
       " 0.4925492415161349,\n",
       " 0.49203874922830915,\n",
       " 0.4932993539144726,\n",
       " 0.49410648657606193,\n",
       " 0.4965217805555439,\n",
       " 0.49619979406674497,\n",
       " 0.49477426026536375,\n",
       " 0.49831391615899534,\n",
       " 0.49357443891972475,\n",
       " 0.49947391796907625,\n",
       " 0.49392852015837097,\n",
       " 0.494733709094068,\n",
       " 0.49589099825831645,\n",
       " 0.49729275388745103,\n",
       " 0.49564271227368584,\n",
       " 0.5014673723740956,\n",
       " 0.4942943231257721,\n",
       " 0.5028556687085263,\n",
       " 0.4943133895217422,\n",
       " 0.4949552010146526,\n",
       " 0.5045898885404039,\n",
       " 0.4948012484738413,\n",
       " 0.4946699876738095,\n",
       " 0.49798549046234586,\n",
       " 0.4960597410200122,\n",
       " 0.4994169297023798,\n",
       " 0.4919433381738048,\n",
       " 0.4878311985496194,\n",
       " 0.484280057239044,\n",
       " 0.5006535487392398,\n",
       " 0.4924718076658589,\n",
       " 0.49358696602330865,\n",
       " 0.4980715155520458,\n",
       " 0.49411904232207493,\n",
       " 0.4973133432856268,\n",
       " 0.4912461355522902,\n",
       " 0.49145077566749484,\n",
       " 0.48893007535894023,\n",
       " 0.501486021531192,\n",
       " 0.5025016557621321,\n",
       " 0.4924450328180783,\n",
       " 0.49536166533188036,\n",
       " 0.4962328567496643,\n",
       " 0.49888502404791685,\n",
       " 0.4937405226792536,\n",
       " 0.492623108063675,\n",
       " 0.49528974387560387,\n",
       " 0.49407967869247726,\n",
       " 0.49125449313601544,\n",
       " 0.49530203885407115,\n",
       " 0.4933370621123633,\n",
       " 0.4913593351399466,\n",
       " 0.4869326239813037,\n",
       " 0.4930977365319114,\n",
       " 0.4883828760881301,\n",
       " 0.49523546489511977,\n",
       " 0.49921658538963176,\n",
       " 0.4983270608396036,\n",
       " 0.5007915205325959,\n",
       " 0.4946120613407622,\n",
       " 0.49619306085929366,\n",
       " 0.5068111482090821,\n",
       " 0.4920644267591975,\n",
       " 0.496123536462888,\n",
       " 0.49325172940632545,\n",
       " 0.497133813946293,\n",
       " 0.49646367429210086,\n",
       " 0.5020040563491783,\n",
       " 0.500848825727036,\n",
       " 0.49420964845282883,\n",
       " 0.4922651168024494,\n",
       " 0.49655870562793764,\n",
       " 0.4946518553247501,\n",
       " 0.49230525006493986,\n",
       " 0.49531349055116847,\n",
       " 0.4952344438939217,\n",
       " 0.4995437662049345,\n",
       " 0.49501133830903843,\n",
       " 0.5026072969053395,\n",
       " 0.49434888265058996,\n",
       " 0.49224306538046714,\n",
       " 0.4954999695911096,\n",
       " 0.4994243738719615,\n",
       " 0.4971977936940279,\n",
       " 0.4937962678873609,\n",
       " 0.4955532063633301,\n",
       " 0.49506718345837314,\n",
       " 0.491503560657807,\n",
       " 0.5007942184631137,\n",
       " 0.4991598615578058,\n",
       " 0.4964615135074478,\n",
       " 0.4939478910501716,\n",
       " 0.5609453499055561,\n",
       " 0.4893943449666563,\n",
       " 0.4980773921331894,\n",
       " 0.5016078857625291,\n",
       " 0.49429043838893627,\n",
       " 0.499276728702231,\n",
       " 0.5025801069888811,\n",
       " 0.4992699000602937,\n",
       " 0.4920389858345138,\n",
       " 0.4986875282099085,\n",
       " 0.49967450582271417,\n",
       " 0.4899934629666609,\n",
       " 0.49753601460277364,\n",
       " 0.49336885590636287,\n",
       " 0.4970561818806849,\n",
       " 0.5019936985519868,\n",
       " 0.4913278237676597,\n",
       " 0.5070579163105157,\n",
       " 0.5005071384611045,\n",
       " 0.5062098837298189,\n",
       " 0.4917683465837435,\n",
       " 0.49009435709400656,\n",
       " 0.4935654555783375,\n",
       " 0.5036611968829433,\n",
       " 0.4988314728683684,\n",
       " 0.5000565245902111,\n",
       " 0.4992038982472031,\n",
       " 0.49732949922842373,\n",
       " 0.4936369020040138,\n",
       " 0.4911485710316781,\n",
       " 0.4962172452204466,\n",
       " 0.4883501065939262,\n",
       " 0.49810912925341755,\n",
       " 0.4903407960470551,\n",
       " 0.4955406244499284,\n",
       " 0.4974938684311081,\n",
       " 0.49759210042927515,\n",
       " 0.4926811380353129,\n",
       " 0.4997184334407891,\n",
       " 0.5005645514343456,\n",
       " 0.4981793481165323,\n",
       " 0.49709802692908417,\n",
       " 0.4959564663633789,\n",
       " 0.49443681565768965,\n",
       " 0.4977678202612656,\n",
       " 0.4976331175512912,\n",
       " 0.49605206772109633,\n",
       " 0.4919019179675322,\n",
       " 0.4945435377262724,\n",
       " 0.49947731893268654,\n",
       " 0.4970163625601937,\n",
       " 0.4903177694043102,\n",
       " 0.49724806697734475,\n",
       " 0.5001907795565403,\n",
       " 0.49079461492909204,\n",
       " 0.49893534762404307,\n",
       " 0.48814914551060484,\n",
       " 0.4924799052012274,\n",
       " 0.4958301288506717,\n",
       " 0.49942795770719284,\n",
       " 0.49032398824330453,\n",
       " 0.4990339549738375,\n",
       " 0.4914211940644674,\n",
       " 0.500956551215446,\n",
       " 0.4932893824167238,\n",
       " 0.4925216858215253,\n",
       " 0.49409641665165127,\n",
       " 0.4977048909367839,\n",
       " 0.49328528900469293,\n",
       " 0.49379779873819013,\n",
       " 0.492650737138474,\n",
       " 0.49019302043289126,\n",
       " 0.4978228528645061,\n",
       " 0.48931034276852475,\n",
       " 0.49635749740704493,\n",
       " 0.497819926148305,\n",
       " 0.4958658263158765,\n",
       " 0.49910103253779575,\n",
       " 0.48989459625856213,\n",
       " 0.492904224446778,\n",
       " 0.4917142840549548,\n",
       " 0.49151726212029095,\n",
       " 0.5015262588885397,\n",
       " 0.4929965331795198,\n",
       " 0.4958423663868538,\n",
       " 0.5003839471556867,\n",
       " 0.49122502365609916,\n",
       " 0.4930387520264696,\n",
       " 0.4966489353550394,\n",
       " 0.5136807985269966,\n",
       " 0.4970571963935902,\n",
       " 0.4933043425143001,\n",
       " 0.49299599624040313,\n",
       " 0.497765651088162,\n",
       " 0.49309447674285406,\n",
       " 0.5003114364642061,\n",
       " 0.5158713460764198,\n",
       " 0.519326353388846,\n",
       " 0.4992306625721091,\n",
       " 0.48984368330148903,\n",
       " 0.4991738812950297,\n",
       " 0.4957486999802165,\n",
       " 0.4983534301284571,\n",
       " 0.4961144475060983,\n",
       " 0.49695626064835025,\n",
       " 0.49505602238849666,\n",
       " 0.4881033379294102,\n",
       " 0.49181883744706134,\n",
       " 0.4972755921058194,\n",
       " 0.5011500872092692,\n",
       " 0.5601877676816589,\n",
       " 0.49670776443770553,\n",
       " 0.5021283046681605,\n",
       " 0.48577528562605854,\n",
       " 0.48659966841710334,\n",
       " 0.4933127943655486,\n",
       " 0.4995756058711995,\n",
       " 0.4969469483229097,\n",
       " ...]"
      ]
     },
     "execution_count": 365,
     "metadata": {},
     "output_type": "execute_result"
    }
   ],
   "source": [
    "predictions"
   ]
  },
  {
   "cell_type": "code",
   "execution_count": 366,
   "metadata": {},
   "outputs": [],
   "source": [
    "wage_predictions = pd.DataFrame()\n"
   ]
  },
  {
   "cell_type": "code",
   "execution_count": 367,
   "metadata": {},
   "outputs": [],
   "source": [
    "wage_predictions['wage'] = predictions "
   ]
  },
  {
   "cell_type": "code",
   "execution_count": 368,
   "metadata": {},
   "outputs": [
    {
     "data": {
      "text/html": [
       "<div>\n",
       "<style scoped>\n",
       "    .dataframe tbody tr th:only-of-type {\n",
       "        vertical-align: middle;\n",
       "    }\n",
       "\n",
       "    .dataframe tbody tr th {\n",
       "        vertical-align: top;\n",
       "    }\n",
       "\n",
       "    .dataframe thead th {\n",
       "        text-align: right;\n",
       "    }\n",
       "</style>\n",
       "<table border=\"1\" class=\"dataframe\">\n",
       "  <thead>\n",
       "    <tr style=\"text-align: right;\">\n",
       "      <th></th>\n",
       "      <th>wage</th>\n",
       "    </tr>\n",
       "  </thead>\n",
       "  <tbody>\n",
       "    <tr>\n",
       "      <th>0</th>\n",
       "      <td>0.490803</td>\n",
       "    </tr>\n",
       "    <tr>\n",
       "      <th>1</th>\n",
       "      <td>0.496807</td>\n",
       "    </tr>\n",
       "    <tr>\n",
       "      <th>2</th>\n",
       "      <td>0.497432</td>\n",
       "    </tr>\n",
       "    <tr>\n",
       "      <th>3</th>\n",
       "      <td>0.501587</td>\n",
       "    </tr>\n",
       "    <tr>\n",
       "      <th>4</th>\n",
       "      <td>0.489064</td>\n",
       "    </tr>\n",
       "    <tr>\n",
       "      <th>...</th>\n",
       "      <td>...</td>\n",
       "    </tr>\n",
       "    <tr>\n",
       "      <th>16276</th>\n",
       "      <td>0.497596</td>\n",
       "    </tr>\n",
       "    <tr>\n",
       "      <th>16277</th>\n",
       "      <td>0.494736</td>\n",
       "    </tr>\n",
       "    <tr>\n",
       "      <th>16278</th>\n",
       "      <td>0.499938</td>\n",
       "    </tr>\n",
       "    <tr>\n",
       "      <th>16279</th>\n",
       "      <td>0.503968</td>\n",
       "    </tr>\n",
       "    <tr>\n",
       "      <th>16280</th>\n",
       "      <td>0.500658</td>\n",
       "    </tr>\n",
       "  </tbody>\n",
       "</table>\n",
       "<p>16281 rows × 1 columns</p>\n",
       "</div>"
      ],
      "text/plain": [
       "           wage\n",
       "0      0.490803\n",
       "1      0.496807\n",
       "2      0.497432\n",
       "3      0.501587\n",
       "4      0.489064\n",
       "...         ...\n",
       "16276  0.497596\n",
       "16277  0.494736\n",
       "16278  0.499938\n",
       "16279  0.503968\n",
       "16280  0.500658\n",
       "\n",
       "[16281 rows x 1 columns]"
      ]
     },
     "execution_count": 368,
     "metadata": {},
     "output_type": "execute_result"
    }
   ],
   "source": [
    "wage_predictions"
   ]
  },
  {
   "cell_type": "code",
   "execution_count": 369,
   "metadata": {},
   "outputs": [
    {
     "data": {
      "text/plain": [
       "(16281, 1)"
      ]
     },
     "execution_count": 369,
     "metadata": {},
     "output_type": "execute_result"
    }
   ],
   "source": [
    "wage_predictions.shape"
   ]
  },
  {
   "cell_type": "code",
   "execution_count": 370,
   "metadata": {},
   "outputs": [
    {
     "data": {
      "text/plain": [
       "(16281, 11)"
      ]
     },
     "execution_count": 370,
     "metadata": {},
     "output_type": "execute_result"
    }
   ],
   "source": [
    "df2.shape"
   ]
  },
  {
   "cell_type": "code",
   "execution_count": 377,
   "metadata": {},
   "outputs": [],
   "source": [
    "wage_predictions.to_csv('wage_predictions_project_4.csv', index=False)"
   ]
  },
  {
   "cell_type": "code",
   "execution_count": 375,
   "metadata": {},
   "outputs": [],
   "source": [
    "df3 = pd.read_csv('wage_predictions_project_4')"
   ]
  },
  {
   "cell_type": "code",
   "execution_count": 376,
   "metadata": {},
   "outputs": [
    {
     "data": {
      "text/html": [
       "<div>\n",
       "<style scoped>\n",
       "    .dataframe tbody tr th:only-of-type {\n",
       "        vertical-align: middle;\n",
       "    }\n",
       "\n",
       "    .dataframe tbody tr th {\n",
       "        vertical-align: top;\n",
       "    }\n",
       "\n",
       "    .dataframe thead th {\n",
       "        text-align: right;\n",
       "    }\n",
       "</style>\n",
       "<table border=\"1\" class=\"dataframe\">\n",
       "  <thead>\n",
       "    <tr style=\"text-align: right;\">\n",
       "      <th></th>\n",
       "      <th>wage</th>\n",
       "    </tr>\n",
       "  </thead>\n",
       "  <tbody>\n",
       "    <tr>\n",
       "      <th>0</th>\n",
       "      <td>0.490803</td>\n",
       "    </tr>\n",
       "    <tr>\n",
       "      <th>1</th>\n",
       "      <td>0.496807</td>\n",
       "    </tr>\n",
       "    <tr>\n",
       "      <th>2</th>\n",
       "      <td>0.497432</td>\n",
       "    </tr>\n",
       "    <tr>\n",
       "      <th>3</th>\n",
       "      <td>0.501587</td>\n",
       "    </tr>\n",
       "    <tr>\n",
       "      <th>4</th>\n",
       "      <td>0.489064</td>\n",
       "    </tr>\n",
       "    <tr>\n",
       "      <th>...</th>\n",
       "      <td>...</td>\n",
       "    </tr>\n",
       "    <tr>\n",
       "      <th>16276</th>\n",
       "      <td>0.497596</td>\n",
       "    </tr>\n",
       "    <tr>\n",
       "      <th>16277</th>\n",
       "      <td>0.494736</td>\n",
       "    </tr>\n",
       "    <tr>\n",
       "      <th>16278</th>\n",
       "      <td>0.499938</td>\n",
       "    </tr>\n",
       "    <tr>\n",
       "      <th>16279</th>\n",
       "      <td>0.503968</td>\n",
       "    </tr>\n",
       "    <tr>\n",
       "      <th>16280</th>\n",
       "      <td>0.500658</td>\n",
       "    </tr>\n",
       "  </tbody>\n",
       "</table>\n",
       "<p>16281 rows × 1 columns</p>\n",
       "</div>"
      ],
      "text/plain": [
       "           wage\n",
       "0      0.490803\n",
       "1      0.496807\n",
       "2      0.497432\n",
       "3      0.501587\n",
       "4      0.489064\n",
       "...         ...\n",
       "16276  0.497596\n",
       "16277  0.494736\n",
       "16278  0.499938\n",
       "16279  0.503968\n",
       "16280  0.500658\n",
       "\n",
       "[16281 rows x 1 columns]"
      ]
     },
     "execution_count": 376,
     "metadata": {},
     "output_type": "execute_result"
    }
   ],
   "source": [
    "df3"
   ]
  },
  {
   "cell_type": "code",
   "execution_count": null,
   "metadata": {},
   "outputs": [],
   "source": []
  }
 ],
 "metadata": {
  "kernelspec": {
   "display_name": "Python 3",
   "language": "python",
   "name": "python3"
  },
  "language_info": {
   "codemirror_mode": {
    "name": "ipython",
    "version": 3
   },
   "file_extension": ".py",
   "mimetype": "text/x-python",
   "name": "python",
   "nbconvert_exporter": "python",
   "pygments_lexer": "ipython3",
   "version": "3.7.6"
  }
 },
 "nbformat": 4,
 "nbformat_minor": 4
}
